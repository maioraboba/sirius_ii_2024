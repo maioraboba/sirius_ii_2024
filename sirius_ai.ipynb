{
 "nbformat": 4,
 "nbformat_minor": 0,
 "metadata": {
  "colab": {
   "provenance": []
  },
  "kernelspec": {
   "name": "python3",
   "language": "python",
   "display_name": "Python 3 (ipykernel)"
  },
  "language_info": {
   "name": "python"
  }
 },
 "cells": [
  {
   "cell_type": "code",
   "execution_count": 47,
   "metadata": {
    "id": "JGzJqQ8z51ON",
    "ExecuteTime": {
     "end_time": "2024-03-30T14:09:48.812912Z",
     "start_time": "2024-03-30T14:09:48.809854Z"
    }
   },
   "outputs": [],
   "source": [
    "import pandas as pd\n",
    "import numpy as np\n",
    "import seaborn as sns\n",
    "import matplotlib.pyplot as plt\n",
    "import datetime\n",
    "from sklearn.preprocessing import OneHotEncoder"
   ]
  },
  {
   "cell_type": "code",
   "source": [
    "df_train_orig = pd.read_csv('drive/MyDrive/Sample data/train.csv')\n",
    "df_macro_orig = pd.read_csv('drive/MyDrive/Sample data/macro.csv')"
   ],
   "metadata": {
    "id": "DGJLSWXh653K",
    "ExecuteTime": {
     "end_time": "2024-03-30T14:09:49.823064Z",
     "start_time": "2024-03-30T14:09:49.207076Z"
    }
   },
   "execution_count": 48,
   "outputs": []
  },
  {
   "cell_type": "code",
   "source": [
    "df_train_orig"
   ],
   "metadata": {
    "id": "vUEAwELC7DLN",
    "ExecuteTime": {
     "end_time": "2024-03-30T14:09:49.849032Z",
     "start_time": "2024-03-30T14:09:49.824911Z"
    }
   },
   "execution_count": 49,
   "outputs": [
    {
     "data": {
      "text/plain": "          id   timestamp  full_sq  life_sq  floor  max_floor  material  \\\n0          1  2011-08-20       43     27.0    4.0        NaN       NaN   \n1          2  2011-08-23       34     19.0    3.0        NaN       NaN   \n2          3  2011-08-27       43     29.0    2.0        NaN       NaN   \n3          4  2011-09-01       89     50.0    9.0        NaN       NaN   \n4          5  2011-09-05       77     77.0    4.0        NaN       NaN   \n...      ...         ...      ...      ...    ...        ...       ...   \n30466  30469  2015-06-30       44     27.0    7.0        9.0       1.0   \n30467  30470  2015-06-30       86     59.0    3.0        9.0       2.0   \n30468  30471  2015-06-30       45      NaN   10.0       20.0       1.0   \n30469  30472  2015-06-30       64     32.0    5.0       15.0       1.0   \n30470  30473  2015-06-30       43     28.0    1.0        9.0       1.0   \n\n       build_year  num_room  kitch_sq  ...  cafe_count_5000_price_2500  \\\n0             NaN       NaN       NaN  ...                           9   \n1             NaN       NaN       NaN  ...                          15   \n2             NaN       NaN       NaN  ...                          10   \n3             NaN       NaN       NaN  ...                          11   \n4             NaN       NaN       NaN  ...                         319   \n...           ...       ...       ...  ...                         ...   \n30466      1975.0       2.0       6.0  ...                          15   \n30467      1935.0       4.0      10.0  ...                         313   \n30468         NaN       1.0       1.0  ...                           1   \n30469      2003.0       2.0      11.0  ...                          22   \n30470      1968.0       2.0       6.0  ...                           5   \n\n      cafe_count_5000_price_4000 cafe_count_5000_price_high  \\\n0                              4                          0   \n1                              3                          0   \n2                              3                          0   \n3                              2                          1   \n4                            108                         17   \n...                          ...                        ...   \n30466                          5                          0   \n30467                        128                         24   \n30468                          1                          0   \n30469                          1                          1   \n30470                          2                          0   \n\n       big_church_count_5000  church_count_5000  mosque_count_5000  \\\n0                         13                 22                  1   \n1                         15                 29                  1   \n2                         11                 27                  0   \n3                          4                  4                  0   \n4                        135                236                  2   \n...                      ...                ...                ...   \n30466                     15                 26                  1   \n30467                     98                182                  1   \n30468                      2                 12                  0   \n30469                      6                 31                  1   \n30470                      7                 16                  0   \n\n       leisure_count_5000  sport_count_5000  market_count_5000  price_doc  \n0                       0                52                  4    5850000  \n1                      10                66                 14    6000000  \n2                       4                67                 10    5700000  \n3                       0                26                  3   13100000  \n4                      91               195                 14   16331452  \n...                   ...               ...                ...        ...  \n30466                   2                84                  6    7400000  \n30467                  82               171                 15   25000000  \n30468                   1                11                  1    6970959  \n30469                   4                65                  7   13500000  \n30470                   9                54                 10    5600000  \n\n[30471 rows x 292 columns]",
      "text/html": "<div>\n<style scoped>\n    .dataframe tbody tr th:only-of-type {\n        vertical-align: middle;\n    }\n\n    .dataframe tbody tr th {\n        vertical-align: top;\n    }\n\n    .dataframe thead th {\n        text-align: right;\n    }\n</style>\n<table border=\"1\" class=\"dataframe\">\n  <thead>\n    <tr style=\"text-align: right;\">\n      <th></th>\n      <th>id</th>\n      <th>timestamp</th>\n      <th>full_sq</th>\n      <th>life_sq</th>\n      <th>floor</th>\n      <th>max_floor</th>\n      <th>material</th>\n      <th>build_year</th>\n      <th>num_room</th>\n      <th>kitch_sq</th>\n      <th>...</th>\n      <th>cafe_count_5000_price_2500</th>\n      <th>cafe_count_5000_price_4000</th>\n      <th>cafe_count_5000_price_high</th>\n      <th>big_church_count_5000</th>\n      <th>church_count_5000</th>\n      <th>mosque_count_5000</th>\n      <th>leisure_count_5000</th>\n      <th>sport_count_5000</th>\n      <th>market_count_5000</th>\n      <th>price_doc</th>\n    </tr>\n  </thead>\n  <tbody>\n    <tr>\n      <th>0</th>\n      <td>1</td>\n      <td>2011-08-20</td>\n      <td>43</td>\n      <td>27.0</td>\n      <td>4.0</td>\n      <td>NaN</td>\n      <td>NaN</td>\n      <td>NaN</td>\n      <td>NaN</td>\n      <td>NaN</td>\n      <td>...</td>\n      <td>9</td>\n      <td>4</td>\n      <td>0</td>\n      <td>13</td>\n      <td>22</td>\n      <td>1</td>\n      <td>0</td>\n      <td>52</td>\n      <td>4</td>\n      <td>5850000</td>\n    </tr>\n    <tr>\n      <th>1</th>\n      <td>2</td>\n      <td>2011-08-23</td>\n      <td>34</td>\n      <td>19.0</td>\n      <td>3.0</td>\n      <td>NaN</td>\n      <td>NaN</td>\n      <td>NaN</td>\n      <td>NaN</td>\n      <td>NaN</td>\n      <td>...</td>\n      <td>15</td>\n      <td>3</td>\n      <td>0</td>\n      <td>15</td>\n      <td>29</td>\n      <td>1</td>\n      <td>10</td>\n      <td>66</td>\n      <td>14</td>\n      <td>6000000</td>\n    </tr>\n    <tr>\n      <th>2</th>\n      <td>3</td>\n      <td>2011-08-27</td>\n      <td>43</td>\n      <td>29.0</td>\n      <td>2.0</td>\n      <td>NaN</td>\n      <td>NaN</td>\n      <td>NaN</td>\n      <td>NaN</td>\n      <td>NaN</td>\n      <td>...</td>\n      <td>10</td>\n      <td>3</td>\n      <td>0</td>\n      <td>11</td>\n      <td>27</td>\n      <td>0</td>\n      <td>4</td>\n      <td>67</td>\n      <td>10</td>\n      <td>5700000</td>\n    </tr>\n    <tr>\n      <th>3</th>\n      <td>4</td>\n      <td>2011-09-01</td>\n      <td>89</td>\n      <td>50.0</td>\n      <td>9.0</td>\n      <td>NaN</td>\n      <td>NaN</td>\n      <td>NaN</td>\n      <td>NaN</td>\n      <td>NaN</td>\n      <td>...</td>\n      <td>11</td>\n      <td>2</td>\n      <td>1</td>\n      <td>4</td>\n      <td>4</td>\n      <td>0</td>\n      <td>0</td>\n      <td>26</td>\n      <td>3</td>\n      <td>13100000</td>\n    </tr>\n    <tr>\n      <th>4</th>\n      <td>5</td>\n      <td>2011-09-05</td>\n      <td>77</td>\n      <td>77.0</td>\n      <td>4.0</td>\n      <td>NaN</td>\n      <td>NaN</td>\n      <td>NaN</td>\n      <td>NaN</td>\n      <td>NaN</td>\n      <td>...</td>\n      <td>319</td>\n      <td>108</td>\n      <td>17</td>\n      <td>135</td>\n      <td>236</td>\n      <td>2</td>\n      <td>91</td>\n      <td>195</td>\n      <td>14</td>\n      <td>16331452</td>\n    </tr>\n    <tr>\n      <th>...</th>\n      <td>...</td>\n      <td>...</td>\n      <td>...</td>\n      <td>...</td>\n      <td>...</td>\n      <td>...</td>\n      <td>...</td>\n      <td>...</td>\n      <td>...</td>\n      <td>...</td>\n      <td>...</td>\n      <td>...</td>\n      <td>...</td>\n      <td>...</td>\n      <td>...</td>\n      <td>...</td>\n      <td>...</td>\n      <td>...</td>\n      <td>...</td>\n      <td>...</td>\n      <td>...</td>\n    </tr>\n    <tr>\n      <th>30466</th>\n      <td>30469</td>\n      <td>2015-06-30</td>\n      <td>44</td>\n      <td>27.0</td>\n      <td>7.0</td>\n      <td>9.0</td>\n      <td>1.0</td>\n      <td>1975.0</td>\n      <td>2.0</td>\n      <td>6.0</td>\n      <td>...</td>\n      <td>15</td>\n      <td>5</td>\n      <td>0</td>\n      <td>15</td>\n      <td>26</td>\n      <td>1</td>\n      <td>2</td>\n      <td>84</td>\n      <td>6</td>\n      <td>7400000</td>\n    </tr>\n    <tr>\n      <th>30467</th>\n      <td>30470</td>\n      <td>2015-06-30</td>\n      <td>86</td>\n      <td>59.0</td>\n      <td>3.0</td>\n      <td>9.0</td>\n      <td>2.0</td>\n      <td>1935.0</td>\n      <td>4.0</td>\n      <td>10.0</td>\n      <td>...</td>\n      <td>313</td>\n      <td>128</td>\n      <td>24</td>\n      <td>98</td>\n      <td>182</td>\n      <td>1</td>\n      <td>82</td>\n      <td>171</td>\n      <td>15</td>\n      <td>25000000</td>\n    </tr>\n    <tr>\n      <th>30468</th>\n      <td>30471</td>\n      <td>2015-06-30</td>\n      <td>45</td>\n      <td>NaN</td>\n      <td>10.0</td>\n      <td>20.0</td>\n      <td>1.0</td>\n      <td>NaN</td>\n      <td>1.0</td>\n      <td>1.0</td>\n      <td>...</td>\n      <td>1</td>\n      <td>1</td>\n      <td>0</td>\n      <td>2</td>\n      <td>12</td>\n      <td>0</td>\n      <td>1</td>\n      <td>11</td>\n      <td>1</td>\n      <td>6970959</td>\n    </tr>\n    <tr>\n      <th>30469</th>\n      <td>30472</td>\n      <td>2015-06-30</td>\n      <td>64</td>\n      <td>32.0</td>\n      <td>5.0</td>\n      <td>15.0</td>\n      <td>1.0</td>\n      <td>2003.0</td>\n      <td>2.0</td>\n      <td>11.0</td>\n      <td>...</td>\n      <td>22</td>\n      <td>1</td>\n      <td>1</td>\n      <td>6</td>\n      <td>31</td>\n      <td>1</td>\n      <td>4</td>\n      <td>65</td>\n      <td>7</td>\n      <td>13500000</td>\n    </tr>\n    <tr>\n      <th>30470</th>\n      <td>30473</td>\n      <td>2015-06-30</td>\n      <td>43</td>\n      <td>28.0</td>\n      <td>1.0</td>\n      <td>9.0</td>\n      <td>1.0</td>\n      <td>1968.0</td>\n      <td>2.0</td>\n      <td>6.0</td>\n      <td>...</td>\n      <td>5</td>\n      <td>2</td>\n      <td>0</td>\n      <td>7</td>\n      <td>16</td>\n      <td>0</td>\n      <td>9</td>\n      <td>54</td>\n      <td>10</td>\n      <td>5600000</td>\n    </tr>\n  </tbody>\n</table>\n<p>30471 rows × 292 columns</p>\n</div>"
     },
     "execution_count": 49,
     "metadata": {},
     "output_type": "execute_result"
    }
   ]
  },
  {
   "cell_type": "code",
   "source": [
    "df_macro_orig"
   ],
   "metadata": {
    "id": "SVCuWLow7FN7",
    "ExecuteTime": {
     "end_time": "2024-03-30T14:09:49.868384Z",
     "start_time": "2024-03-30T14:09:49.850039Z"
    }
   },
   "execution_count": 50,
   "outputs": [
    {
     "data": {
      "text/plain": "       timestamp  oil_urals  gdp_quart  gdp_quart_growth    cpi    ppi  \\\n0     2010-01-01    76.1000        NaN               NaN    NaN    NaN   \n1     2010-01-02    76.1000        NaN               NaN    NaN    NaN   \n2     2010-01-03    76.1000        NaN               NaN    NaN    NaN   \n3     2010-01-04    76.1000        NaN               NaN    NaN    NaN   \n4     2010-01-05    76.1000        NaN               NaN    NaN    NaN   \n...          ...        ...        ...               ...    ...    ...   \n2479  2016-10-15    44.3677    19979.4              -0.6  531.0  601.9   \n2480  2016-10-16    44.3677    19979.4              -0.6  531.0  601.9   \n2481  2016-10-17    44.3677    19979.4              -0.6  531.0  601.9   \n2482  2016-10-18    44.3677    19979.4              -0.6  531.0  601.9   \n2483  2016-10-19    44.3677    19979.4              -0.6  531.0  601.9   \n\n      gdp_deflator  balance_trade  balance_trade_growth   usdrub  ...  \\\n0              NaN            NaN                   NaN      NaN  ...   \n1              NaN            NaN                   NaN      NaN  ...   \n2              NaN            NaN                   NaN      NaN  ...   \n3              NaN            NaN                   NaN  29.9050  ...   \n4              NaN            NaN                   NaN  29.8360  ...   \n...            ...            ...                   ...      ...  ...   \n2479        133.16          5.823                   2.6  62.9573  ...   \n2480        133.16          5.823                   2.6  62.9573  ...   \n2481        133.16          5.823                   2.6  63.0856  ...   \n2482        133.16          5.823                   2.6  62.9512  ...   \n2483        133.16          5.823                   2.6  62.9512  ...   \n\n      provision_retail_space_modern_sqm  turnover_catering_per_cap  \\\n0                                 690.0                     6221.0   \n1                                 690.0                     6221.0   \n2                                 690.0                     6221.0   \n3                                 690.0                     6221.0   \n4                                 690.0                     6221.0   \n...                                 ...                        ...   \n2479                                NaN                        NaN   \n2480                                NaN                        NaN   \n2481                                NaN                        NaN   \n2482                                NaN                        NaN   \n2483                                NaN                        NaN   \n\n      theaters_viewers_per_1000_cap  seats_theather_rfmin_per_100000_cap  \\\n0                             527.0                                 0.41   \n1                             527.0                                 0.41   \n2                             527.0                                 0.41   \n3                             527.0                                 0.41   \n4                             527.0                                 0.41   \n...                             ...                                  ...   \n2479                            NaN                                  NaN   \n2480                            NaN                                  NaN   \n2481                            NaN                                  NaN   \n2482                            NaN                                  NaN   \n2483                            NaN                                  NaN   \n\n      museum_visitis_per_100_cap  bandwidth_sports  \\\n0                          993.0               NaN   \n1                          993.0               NaN   \n2                          993.0               NaN   \n3                          993.0               NaN   \n4                          993.0               NaN   \n...                          ...               ...   \n2479                         NaN               NaN   \n2480                         NaN               NaN   \n2481                         NaN               NaN   \n2482                         NaN               NaN   \n2483                         NaN               NaN   \n\n      population_reg_sports_share  students_reg_sports_share  apartment_build  \\\n0                             NaN                      63.03          22825.0   \n1                             NaN                      63.03          22825.0   \n2                             NaN                      63.03          22825.0   \n3                             NaN                      63.03          22825.0   \n4                             NaN                      63.03          22825.0   \n...                           ...                        ...              ...   \n2479                          NaN                        NaN              NaN   \n2480                          NaN                        NaN              NaN   \n2481                          NaN                        NaN              NaN   \n2482                          NaN                        NaN              NaN   \n2483                          NaN                        NaN              NaN   \n\n      apartment_fund_sqm  \n0                    NaN  \n1                    NaN  \n2                    NaN  \n3                    NaN  \n4                    NaN  \n...                  ...  \n2479                 NaN  \n2480                 NaN  \n2481                 NaN  \n2482                 NaN  \n2483                 NaN  \n\n[2484 rows x 100 columns]",
      "text/html": "<div>\n<style scoped>\n    .dataframe tbody tr th:only-of-type {\n        vertical-align: middle;\n    }\n\n    .dataframe tbody tr th {\n        vertical-align: top;\n    }\n\n    .dataframe thead th {\n        text-align: right;\n    }\n</style>\n<table border=\"1\" class=\"dataframe\">\n  <thead>\n    <tr style=\"text-align: right;\">\n      <th></th>\n      <th>timestamp</th>\n      <th>oil_urals</th>\n      <th>gdp_quart</th>\n      <th>gdp_quart_growth</th>\n      <th>cpi</th>\n      <th>ppi</th>\n      <th>gdp_deflator</th>\n      <th>balance_trade</th>\n      <th>balance_trade_growth</th>\n      <th>usdrub</th>\n      <th>...</th>\n      <th>provision_retail_space_modern_sqm</th>\n      <th>turnover_catering_per_cap</th>\n      <th>theaters_viewers_per_1000_cap</th>\n      <th>seats_theather_rfmin_per_100000_cap</th>\n      <th>museum_visitis_per_100_cap</th>\n      <th>bandwidth_sports</th>\n      <th>population_reg_sports_share</th>\n      <th>students_reg_sports_share</th>\n      <th>apartment_build</th>\n      <th>apartment_fund_sqm</th>\n    </tr>\n  </thead>\n  <tbody>\n    <tr>\n      <th>0</th>\n      <td>2010-01-01</td>\n      <td>76.1000</td>\n      <td>NaN</td>\n      <td>NaN</td>\n      <td>NaN</td>\n      <td>NaN</td>\n      <td>NaN</td>\n      <td>NaN</td>\n      <td>NaN</td>\n      <td>NaN</td>\n      <td>...</td>\n      <td>690.0</td>\n      <td>6221.0</td>\n      <td>527.0</td>\n      <td>0.41</td>\n      <td>993.0</td>\n      <td>NaN</td>\n      <td>NaN</td>\n      <td>63.03</td>\n      <td>22825.0</td>\n      <td>NaN</td>\n    </tr>\n    <tr>\n      <th>1</th>\n      <td>2010-01-02</td>\n      <td>76.1000</td>\n      <td>NaN</td>\n      <td>NaN</td>\n      <td>NaN</td>\n      <td>NaN</td>\n      <td>NaN</td>\n      <td>NaN</td>\n      <td>NaN</td>\n      <td>NaN</td>\n      <td>...</td>\n      <td>690.0</td>\n      <td>6221.0</td>\n      <td>527.0</td>\n      <td>0.41</td>\n      <td>993.0</td>\n      <td>NaN</td>\n      <td>NaN</td>\n      <td>63.03</td>\n      <td>22825.0</td>\n      <td>NaN</td>\n    </tr>\n    <tr>\n      <th>2</th>\n      <td>2010-01-03</td>\n      <td>76.1000</td>\n      <td>NaN</td>\n      <td>NaN</td>\n      <td>NaN</td>\n      <td>NaN</td>\n      <td>NaN</td>\n      <td>NaN</td>\n      <td>NaN</td>\n      <td>NaN</td>\n      <td>...</td>\n      <td>690.0</td>\n      <td>6221.0</td>\n      <td>527.0</td>\n      <td>0.41</td>\n      <td>993.0</td>\n      <td>NaN</td>\n      <td>NaN</td>\n      <td>63.03</td>\n      <td>22825.0</td>\n      <td>NaN</td>\n    </tr>\n    <tr>\n      <th>3</th>\n      <td>2010-01-04</td>\n      <td>76.1000</td>\n      <td>NaN</td>\n      <td>NaN</td>\n      <td>NaN</td>\n      <td>NaN</td>\n      <td>NaN</td>\n      <td>NaN</td>\n      <td>NaN</td>\n      <td>29.9050</td>\n      <td>...</td>\n      <td>690.0</td>\n      <td>6221.0</td>\n      <td>527.0</td>\n      <td>0.41</td>\n      <td>993.0</td>\n      <td>NaN</td>\n      <td>NaN</td>\n      <td>63.03</td>\n      <td>22825.0</td>\n      <td>NaN</td>\n    </tr>\n    <tr>\n      <th>4</th>\n      <td>2010-01-05</td>\n      <td>76.1000</td>\n      <td>NaN</td>\n      <td>NaN</td>\n      <td>NaN</td>\n      <td>NaN</td>\n      <td>NaN</td>\n      <td>NaN</td>\n      <td>NaN</td>\n      <td>29.8360</td>\n      <td>...</td>\n      <td>690.0</td>\n      <td>6221.0</td>\n      <td>527.0</td>\n      <td>0.41</td>\n      <td>993.0</td>\n      <td>NaN</td>\n      <td>NaN</td>\n      <td>63.03</td>\n      <td>22825.0</td>\n      <td>NaN</td>\n    </tr>\n    <tr>\n      <th>...</th>\n      <td>...</td>\n      <td>...</td>\n      <td>...</td>\n      <td>...</td>\n      <td>...</td>\n      <td>...</td>\n      <td>...</td>\n      <td>...</td>\n      <td>...</td>\n      <td>...</td>\n      <td>...</td>\n      <td>...</td>\n      <td>...</td>\n      <td>...</td>\n      <td>...</td>\n      <td>...</td>\n      <td>...</td>\n      <td>...</td>\n      <td>...</td>\n      <td>...</td>\n      <td>...</td>\n    </tr>\n    <tr>\n      <th>2479</th>\n      <td>2016-10-15</td>\n      <td>44.3677</td>\n      <td>19979.4</td>\n      <td>-0.6</td>\n      <td>531.0</td>\n      <td>601.9</td>\n      <td>133.16</td>\n      <td>5.823</td>\n      <td>2.6</td>\n      <td>62.9573</td>\n      <td>...</td>\n      <td>NaN</td>\n      <td>NaN</td>\n      <td>NaN</td>\n      <td>NaN</td>\n      <td>NaN</td>\n      <td>NaN</td>\n      <td>NaN</td>\n      <td>NaN</td>\n      <td>NaN</td>\n      <td>NaN</td>\n    </tr>\n    <tr>\n      <th>2480</th>\n      <td>2016-10-16</td>\n      <td>44.3677</td>\n      <td>19979.4</td>\n      <td>-0.6</td>\n      <td>531.0</td>\n      <td>601.9</td>\n      <td>133.16</td>\n      <td>5.823</td>\n      <td>2.6</td>\n      <td>62.9573</td>\n      <td>...</td>\n      <td>NaN</td>\n      <td>NaN</td>\n      <td>NaN</td>\n      <td>NaN</td>\n      <td>NaN</td>\n      <td>NaN</td>\n      <td>NaN</td>\n      <td>NaN</td>\n      <td>NaN</td>\n      <td>NaN</td>\n    </tr>\n    <tr>\n      <th>2481</th>\n      <td>2016-10-17</td>\n      <td>44.3677</td>\n      <td>19979.4</td>\n      <td>-0.6</td>\n      <td>531.0</td>\n      <td>601.9</td>\n      <td>133.16</td>\n      <td>5.823</td>\n      <td>2.6</td>\n      <td>63.0856</td>\n      <td>...</td>\n      <td>NaN</td>\n      <td>NaN</td>\n      <td>NaN</td>\n      <td>NaN</td>\n      <td>NaN</td>\n      <td>NaN</td>\n      <td>NaN</td>\n      <td>NaN</td>\n      <td>NaN</td>\n      <td>NaN</td>\n    </tr>\n    <tr>\n      <th>2482</th>\n      <td>2016-10-18</td>\n      <td>44.3677</td>\n      <td>19979.4</td>\n      <td>-0.6</td>\n      <td>531.0</td>\n      <td>601.9</td>\n      <td>133.16</td>\n      <td>5.823</td>\n      <td>2.6</td>\n      <td>62.9512</td>\n      <td>...</td>\n      <td>NaN</td>\n      <td>NaN</td>\n      <td>NaN</td>\n      <td>NaN</td>\n      <td>NaN</td>\n      <td>NaN</td>\n      <td>NaN</td>\n      <td>NaN</td>\n      <td>NaN</td>\n      <td>NaN</td>\n    </tr>\n    <tr>\n      <th>2483</th>\n      <td>2016-10-19</td>\n      <td>44.3677</td>\n      <td>19979.4</td>\n      <td>-0.6</td>\n      <td>531.0</td>\n      <td>601.9</td>\n      <td>133.16</td>\n      <td>5.823</td>\n      <td>2.6</td>\n      <td>62.9512</td>\n      <td>...</td>\n      <td>NaN</td>\n      <td>NaN</td>\n      <td>NaN</td>\n      <td>NaN</td>\n      <td>NaN</td>\n      <td>NaN</td>\n      <td>NaN</td>\n      <td>NaN</td>\n      <td>NaN</td>\n      <td>NaN</td>\n    </tr>\n  </tbody>\n</table>\n<p>2484 rows × 100 columns</p>\n</div>"
     },
     "execution_count": 50,
     "metadata": {},
     "output_type": "execute_result"
    }
   ]
  },
  {
   "cell_type": "markdown",
   "source": [
    "# **Работа с первым датасетом**"
   ],
   "metadata": {
    "id": "7j17pHsVpOuC"
   }
  },
  {
   "cell_type": "code",
   "source": [
    "df_train = df_train_orig.copy() #Тк планируется изменение  в файле, делаем копию"
   ],
   "metadata": {
    "id": "xLJHPV8J4aY4",
    "ExecuteTime": {
     "end_time": "2024-03-30T14:09:49.888611Z",
     "start_time": "2024-03-30T14:09:49.869395Z"
    }
   },
   "execution_count": 51,
   "outputs": []
  },
  {
   "cell_type": "code",
   "source": [
    "df_train.info(verbose=True)"
   ],
   "metadata": {
    "id": "SjmRYv_-5xfJ",
    "ExecuteTime": {
     "end_time": "2024-03-30T14:09:49.901117Z",
     "start_time": "2024-03-30T14:09:49.889626Z"
    }
   },
   "execution_count": 52,
   "outputs": [
    {
     "name": "stdout",
     "output_type": "stream",
     "text": [
      "<class 'pandas.core.frame.DataFrame'>\n",
      "RangeIndex: 30471 entries, 0 to 30470\n",
      "Data columns (total 292 columns):\n",
      " #    Column                                 Dtype  \n",
      "---   ------                                 -----  \n",
      " 0    id                                     int64  \n",
      " 1    timestamp                              object \n",
      " 2    full_sq                                int64  \n",
      " 3    life_sq                                float64\n",
      " 4    floor                                  float64\n",
      " 5    max_floor                              float64\n",
      " 6    material                               float64\n",
      " 7    build_year                             float64\n",
      " 8    num_room                               float64\n",
      " 9    kitch_sq                               float64\n",
      " 10   state                                  float64\n",
      " 11   product_type                           object \n",
      " 12   sub_area                               object \n",
      " 13   area_m                                 float64\n",
      " 14   raion_popul                            int64  \n",
      " 15   green_zone_part                        float64\n",
      " 16   indust_part                            float64\n",
      " 17   children_preschool                     int64  \n",
      " 18   preschool_quota                        float64\n",
      " 19   preschool_education_centers_raion      int64  \n",
      " 20   children_school                        int64  \n",
      " 21   school_quota                           float64\n",
      " 22   school_education_centers_raion         int64  \n",
      " 23   school_education_centers_top_20_raion  int64  \n",
      " 24   hospital_beds_raion                    float64\n",
      " 25   healthcare_centers_raion               int64  \n",
      " 26   university_top_20_raion                int64  \n",
      " 27   sport_objects_raion                    int64  \n",
      " 28   additional_education_raion             int64  \n",
      " 29   culture_objects_top_25                 object \n",
      " 30   culture_objects_top_25_raion           int64  \n",
      " 31   shopping_centers_raion                 int64  \n",
      " 32   office_raion                           int64  \n",
      " 33   thermal_power_plant_raion              object \n",
      " 34   incineration_raion                     object \n",
      " 35   oil_chemistry_raion                    object \n",
      " 36   radiation_raion                        object \n",
      " 37   railroad_terminal_raion                object \n",
      " 38   big_market_raion                       object \n",
      " 39   nuclear_reactor_raion                  object \n",
      " 40   detention_facility_raion               object \n",
      " 41   full_all                               int64  \n",
      " 42   male_f                                 int64  \n",
      " 43   female_f                               int64  \n",
      " 44   young_all                              int64  \n",
      " 45   young_male                             int64  \n",
      " 46   young_female                           int64  \n",
      " 47   work_all                               int64  \n",
      " 48   work_male                              int64  \n",
      " 49   work_female                            int64  \n",
      " 50   ekder_all                              int64  \n",
      " 51   ekder_male                             int64  \n",
      " 52   ekder_female                           int64  \n",
      " 53   0_6_all                                int64  \n",
      " 54   0_6_male                               int64  \n",
      " 55   0_6_female                             int64  \n",
      " 56   7_14_all                               int64  \n",
      " 57   7_14_male                              int64  \n",
      " 58   7_14_female                            int64  \n",
      " 59   0_17_all                               int64  \n",
      " 60   0_17_male                              int64  \n",
      " 61   0_17_female                            int64  \n",
      " 62   16_29_all                              int64  \n",
      " 63   16_29_male                             int64  \n",
      " 64   16_29_female                           int64  \n",
      " 65   0_13_all                               int64  \n",
      " 66   0_13_male                              int64  \n",
      " 67   0_13_female                            int64  \n",
      " 68   raion_build_count_with_material_info   float64\n",
      " 69   build_count_block                      float64\n",
      " 70   build_count_wood                       float64\n",
      " 71   build_count_frame                      float64\n",
      " 72   build_count_brick                      float64\n",
      " 73   build_count_monolith                   float64\n",
      " 74   build_count_panel                      float64\n",
      " 75   build_count_foam                       float64\n",
      " 76   build_count_slag                       float64\n",
      " 77   build_count_mix                        float64\n",
      " 78   raion_build_count_with_builddate_info  float64\n",
      " 79   build_count_before_1920                float64\n",
      " 80   build_count_1921-1945                  float64\n",
      " 81   build_count_1946-1970                  float64\n",
      " 82   build_count_1971-1995                  float64\n",
      " 83   build_count_after_1995                 float64\n",
      " 84   ID_metro                               int64  \n",
      " 85   metro_min_avto                         float64\n",
      " 86   metro_km_avto                          float64\n",
      " 87   metro_min_walk                         float64\n",
      " 88   metro_km_walk                          float64\n",
      " 89   kindergarten_km                        float64\n",
      " 90   school_km                              float64\n",
      " 91   park_km                                float64\n",
      " 92   green_zone_km                          float64\n",
      " 93   industrial_km                          float64\n",
      " 94   water_treatment_km                     float64\n",
      " 95   cemetery_km                            float64\n",
      " 96   incineration_km                        float64\n",
      " 97   railroad_station_walk_km               float64\n",
      " 98   railroad_station_walk_min              float64\n",
      " 99   ID_railroad_station_walk               float64\n",
      " 100  railroad_station_avto_km               float64\n",
      " 101  railroad_station_avto_min              float64\n",
      " 102  ID_railroad_station_avto               int64  \n",
      " 103  public_transport_station_km            float64\n",
      " 104  public_transport_station_min_walk      float64\n",
      " 105  water_km                               float64\n",
      " 106  water_1line                            object \n",
      " 107  mkad_km                                float64\n",
      " 108  ttk_km                                 float64\n",
      " 109  sadovoe_km                             float64\n",
      " 110  bulvar_ring_km                         float64\n",
      " 111  kremlin_km                             float64\n",
      " 112  big_road1_km                           float64\n",
      " 113  ID_big_road1                           int64  \n",
      " 114  big_road1_1line                        object \n",
      " 115  big_road2_km                           float64\n",
      " 116  ID_big_road2                           int64  \n",
      " 117  railroad_km                            float64\n",
      " 118  railroad_1line                         object \n",
      " 119  zd_vokzaly_avto_km                     float64\n",
      " 120  ID_railroad_terminal                   int64  \n",
      " 121  bus_terminal_avto_km                   float64\n",
      " 122  ID_bus_terminal                        int64  \n",
      " 123  oil_chemistry_km                       float64\n",
      " 124  nuclear_reactor_km                     float64\n",
      " 125  radiation_km                           float64\n",
      " 126  power_transmission_line_km             float64\n",
      " 127  thermal_power_plant_km                 float64\n",
      " 128  ts_km                                  float64\n",
      " 129  big_market_km                          float64\n",
      " 130  market_shop_km                         float64\n",
      " 131  fitness_km                             float64\n",
      " 132  swim_pool_km                           float64\n",
      " 133  ice_rink_km                            float64\n",
      " 134  stadium_km                             float64\n",
      " 135  basketball_km                          float64\n",
      " 136  hospice_morgue_km                      float64\n",
      " 137  detention_facility_km                  float64\n",
      " 138  public_healthcare_km                   float64\n",
      " 139  university_km                          float64\n",
      " 140  workplaces_km                          float64\n",
      " 141  shopping_centers_km                    float64\n",
      " 142  office_km                              float64\n",
      " 143  additional_education_km                float64\n",
      " 144  preschool_km                           float64\n",
      " 145  big_church_km                          float64\n",
      " 146  church_synagogue_km                    float64\n",
      " 147  mosque_km                              float64\n",
      " 148  theater_km                             float64\n",
      " 149  museum_km                              float64\n",
      " 150  exhibition_km                          float64\n",
      " 151  catering_km                            float64\n",
      " 152  ecology                                object \n",
      " 153  green_part_500                         float64\n",
      " 154  prom_part_500                          float64\n",
      " 155  office_count_500                       int64  \n",
      " 156  office_sqm_500                         int64  \n",
      " 157  trc_count_500                          int64  \n",
      " 158  trc_sqm_500                            int64  \n",
      " 159  cafe_count_500                         int64  \n",
      " 160  cafe_sum_500_min_price_avg             float64\n",
      " 161  cafe_sum_500_max_price_avg             float64\n",
      " 162  cafe_avg_price_500                     float64\n",
      " 163  cafe_count_500_na_price                int64  \n",
      " 164  cafe_count_500_price_500               int64  \n",
      " 165  cafe_count_500_price_1000              int64  \n",
      " 166  cafe_count_500_price_1500              int64  \n",
      " 167  cafe_count_500_price_2500              int64  \n",
      " 168  cafe_count_500_price_4000              int64  \n",
      " 169  cafe_count_500_price_high              int64  \n",
      " 170  big_church_count_500                   int64  \n",
      " 171  church_count_500                       int64  \n",
      " 172  mosque_count_500                       int64  \n",
      " 173  leisure_count_500                      int64  \n",
      " 174  sport_count_500                        int64  \n",
      " 175  market_count_500                       int64  \n",
      " 176  green_part_1000                        float64\n",
      " 177  prom_part_1000                         float64\n",
      " 178  office_count_1000                      int64  \n",
      " 179  office_sqm_1000                        int64  \n",
      " 180  trc_count_1000                         int64  \n",
      " 181  trc_sqm_1000                           int64  \n",
      " 182  cafe_count_1000                        int64  \n",
      " 183  cafe_sum_1000_min_price_avg            float64\n",
      " 184  cafe_sum_1000_max_price_avg            float64\n",
      " 185  cafe_avg_price_1000                    float64\n",
      " 186  cafe_count_1000_na_price               int64  \n",
      " 187  cafe_count_1000_price_500              int64  \n",
      " 188  cafe_count_1000_price_1000             int64  \n",
      " 189  cafe_count_1000_price_1500             int64  \n",
      " 190  cafe_count_1000_price_2500             int64  \n",
      " 191  cafe_count_1000_price_4000             int64  \n",
      " 192  cafe_count_1000_price_high             int64  \n",
      " 193  big_church_count_1000                  int64  \n",
      " 194  church_count_1000                      int64  \n",
      " 195  mosque_count_1000                      int64  \n",
      " 196  leisure_count_1000                     int64  \n",
      " 197  sport_count_1000                       int64  \n",
      " 198  market_count_1000                      int64  \n",
      " 199  green_part_1500                        float64\n",
      " 200  prom_part_1500                         float64\n",
      " 201  office_count_1500                      int64  \n",
      " 202  office_sqm_1500                        int64  \n",
      " 203  trc_count_1500                         int64  \n",
      " 204  trc_sqm_1500                           int64  \n",
      " 205  cafe_count_1500                        int64  \n",
      " 206  cafe_sum_1500_min_price_avg            float64\n",
      " 207  cafe_sum_1500_max_price_avg            float64\n",
      " 208  cafe_avg_price_1500                    float64\n",
      " 209  cafe_count_1500_na_price               int64  \n",
      " 210  cafe_count_1500_price_500              int64  \n",
      " 211  cafe_count_1500_price_1000             int64  \n",
      " 212  cafe_count_1500_price_1500             int64  \n",
      " 213  cafe_count_1500_price_2500             int64  \n",
      " 214  cafe_count_1500_price_4000             int64  \n",
      " 215  cafe_count_1500_price_high             int64  \n",
      " 216  big_church_count_1500                  int64  \n",
      " 217  church_count_1500                      int64  \n",
      " 218  mosque_count_1500                      int64  \n",
      " 219  leisure_count_1500                     int64  \n",
      " 220  sport_count_1500                       int64  \n",
      " 221  market_count_1500                      int64  \n",
      " 222  green_part_2000                        float64\n",
      " 223  prom_part_2000                         float64\n",
      " 224  office_count_2000                      int64  \n",
      " 225  office_sqm_2000                        int64  \n",
      " 226  trc_count_2000                         int64  \n",
      " 227  trc_sqm_2000                           int64  \n",
      " 228  cafe_count_2000                        int64  \n",
      " 229  cafe_sum_2000_min_price_avg            float64\n",
      " 230  cafe_sum_2000_max_price_avg            float64\n",
      " 231  cafe_avg_price_2000                    float64\n",
      " 232  cafe_count_2000_na_price               int64  \n",
      " 233  cafe_count_2000_price_500              int64  \n",
      " 234  cafe_count_2000_price_1000             int64  \n",
      " 235  cafe_count_2000_price_1500             int64  \n",
      " 236  cafe_count_2000_price_2500             int64  \n",
      " 237  cafe_count_2000_price_4000             int64  \n",
      " 238  cafe_count_2000_price_high             int64  \n",
      " 239  big_church_count_2000                  int64  \n",
      " 240  church_count_2000                      int64  \n",
      " 241  mosque_count_2000                      int64  \n",
      " 242  leisure_count_2000                     int64  \n",
      " 243  sport_count_2000                       int64  \n",
      " 244  market_count_2000                      int64  \n",
      " 245  green_part_3000                        float64\n",
      " 246  prom_part_3000                         float64\n",
      " 247  office_count_3000                      int64  \n",
      " 248  office_sqm_3000                        int64  \n",
      " 249  trc_count_3000                         int64  \n",
      " 250  trc_sqm_3000                           int64  \n",
      " 251  cafe_count_3000                        int64  \n",
      " 252  cafe_sum_3000_min_price_avg            float64\n",
      " 253  cafe_sum_3000_max_price_avg            float64\n",
      " 254  cafe_avg_price_3000                    float64\n",
      " 255  cafe_count_3000_na_price               int64  \n",
      " 256  cafe_count_3000_price_500              int64  \n",
      " 257  cafe_count_3000_price_1000             int64  \n",
      " 258  cafe_count_3000_price_1500             int64  \n",
      " 259  cafe_count_3000_price_2500             int64  \n",
      " 260  cafe_count_3000_price_4000             int64  \n",
      " 261  cafe_count_3000_price_high             int64  \n",
      " 262  big_church_count_3000                  int64  \n",
      " 263  church_count_3000                      int64  \n",
      " 264  mosque_count_3000                      int64  \n",
      " 265  leisure_count_3000                     int64  \n",
      " 266  sport_count_3000                       int64  \n",
      " 267  market_count_3000                      int64  \n",
      " 268  green_part_5000                        float64\n",
      " 269  prom_part_5000                         float64\n",
      " 270  office_count_5000                      int64  \n",
      " 271  office_sqm_5000                        int64  \n",
      " 272  trc_count_5000                         int64  \n",
      " 273  trc_sqm_5000                           int64  \n",
      " 274  cafe_count_5000                        int64  \n",
      " 275  cafe_sum_5000_min_price_avg            float64\n",
      " 276  cafe_sum_5000_max_price_avg            float64\n",
      " 277  cafe_avg_price_5000                    float64\n",
      " 278  cafe_count_5000_na_price               int64  \n",
      " 279  cafe_count_5000_price_500              int64  \n",
      " 280  cafe_count_5000_price_1000             int64  \n",
      " 281  cafe_count_5000_price_1500             int64  \n",
      " 282  cafe_count_5000_price_2500             int64  \n",
      " 283  cafe_count_5000_price_4000             int64  \n",
      " 284  cafe_count_5000_price_high             int64  \n",
      " 285  big_church_count_5000                  int64  \n",
      " 286  church_count_5000                      int64  \n",
      " 287  mosque_count_5000                      int64  \n",
      " 288  leisure_count_5000                     int64  \n",
      " 289  sport_count_5000                       int64  \n",
      " 290  market_count_5000                      int64  \n",
      " 291  price_doc                              int64  \n",
      "dtypes: float64(119), int64(157), object(16)\n",
      "memory usage: 67.9+ MB\n"
     ]
    }
   ]
  },
  {
   "cell_type": "markdown",
   "source": [
    "Можно заметить, что тип некоторых признаков object, что не очень хорошо, тк перед нами стоит задача регрессии и будет удобнее работать с числовыми данными"
   ],
   "metadata": {
    "id": "S2cV8uVVpYa0"
   }
  },
  {
   "cell_type": "code",
   "source": [
    "col = df_train.columns\n",
    "for el in col:\n",
    "  if df_train[el].dtype == object:\n",
    "    print(el)"
   ],
   "metadata": {
    "id": "JqfPXcz5p4Ni",
    "ExecuteTime": {
     "end_time": "2024-03-30T14:09:49.906144Z",
     "start_time": "2024-03-30T14:09:49.902123Z"
    }
   },
   "execution_count": 53,
   "outputs": [
    {
     "name": "stdout",
     "output_type": "stream",
     "text": [
      "timestamp\n",
      "product_type\n",
      "sub_area\n",
      "culture_objects_top_25\n",
      "thermal_power_plant_raion\n",
      "incineration_raion\n",
      "oil_chemistry_raion\n",
      "radiation_raion\n",
      "railroad_terminal_raion\n",
      "big_market_raion\n",
      "nuclear_reactor_raion\n",
      "detention_facility_raion\n",
      "water_1line\n",
      "big_road1_1line\n",
      "railroad_1line\n",
      "ecology\n"
     ]
    }
   ]
  },
  {
   "cell_type": "markdown",
   "source": [
    "timestamp\n",
    "product_type: покупка или инвестиция владельца-арендатора\n",
    "\n",
    "sub_area: название района\n",
    "\n",
    "culture_objects_top_25: топ 25 объектов культуры\n",
    "\n",
    "thermal_power_plant_raion: район ТЭЦ\n",
    "\n",
    "incineration_raion: мусоросжигательный район\n",
    "\n",
    "oil_chemistry_raion: нефтехимический район\n",
    "\n",
    "radiation_raion: радиационный район\n",
    "\n",
    "railroad_terminal_raion: железнодорожный вокзал района\n",
    "\n",
    "big_market_raion: большой рыночный район\n",
    "\n",
    "nuclear_reactor_raion: ядерный реакторный район\n",
    "\n",
    "detention_facility_raion: следственный изолятор района\n",
    "\n",
    "water_1line: вода 1 линия\n",
    "\n",
    "big_road1_1line: большая дорога1 1 линия\n",
    "\n",
    "railroad_1line: железная дорога 1 линия\n",
    "\n",
    "ecology: экология"
   ],
   "metadata": {
    "id": "iYFn0dN1qmkq"
   }
  },
  {
   "cell_type": "code",
   "source": [
    "col = df_train.columns\n",
    "for el in col:\n",
    "  if df_train[el].dtype == object:\n",
    "    print(f\"{el}: {df_train[el].unique()}\")"
   ],
   "metadata": {
    "id": "WnohZ4puqVJe",
    "ExecuteTime": {
     "end_time": "2024-03-30T14:09:49.930147Z",
     "start_time": "2024-03-30T14:09:49.906144Z"
    }
   },
   "execution_count": 54,
   "outputs": [
    {
     "name": "stdout",
     "output_type": "stream",
     "text": [
      "timestamp: ['2011-08-20' '2011-08-23' '2011-08-27' ... '2015-06-27' '2015-06-29'\n",
      " '2015-06-30']\n",
      "product_type: ['Investment' 'OwnerOccupier']\n",
      "sub_area: ['Bibirevo' 'Nagatinskij Zaton' \"Tekstil'shhiki\" 'Mitino' 'Basmannoe'\n",
      " 'Nizhegorodskoe' \"Sokol'niki\" 'Koptevo' 'Kuncevo' 'Kosino-Uhtomskoe'\n",
      " 'Zapadnoe Degunino' 'Presnenskoe' 'Lefortovo' \"Mar'ino\" \"Kuz'minki\"\n",
      " 'Nagornoe' \"Gol'janovo\" 'Vnukovo' 'Juzhnoe Tushino' 'Severnoe Tushino'\n",
      " \"Chertanovo Central'noe\" 'Fili Davydkovo' 'Otradnoe' 'Novo-Peredelkino'\n",
      " 'Bogorodskoe' 'Jaroslavskoe' 'Strogino' 'Hovrino' \"Moskvorech'e-Saburovo\"\n",
      " 'Staroe Krjukovo' 'Ljublino' 'Caricyno' 'Veshnjaki' 'Danilovskoe'\n",
      " 'Preobrazhenskoe' \"Kon'kovo\" 'Brateevo' 'Vostochnoe Izmajlovo'\n",
      " 'Vyhino-Zhulebino' 'Donskoe' 'Novogireevo' 'Juzhnoe Butovo' 'Sokol'\n",
      " 'Kurkino' 'Izmajlovo' 'Severnoe Medvedkovo' 'Rostokino'\n",
      " 'Orehovo-Borisovo Severnoe' 'Ochakovo-Matveevskoe' 'Taganskoe'\n",
      " 'Dmitrovskoe' 'Orehovo-Borisovo Juzhnoe' 'Teplyj Stan' 'Babushkinskoe'\n",
      " 'Pokrovskoe Streshnevo' 'Obruchevskoe' 'Filevskij Park'\n",
      " 'Troparevo-Nikulino' 'Severnoe Butovo' 'Hamovniki' 'Solncevo'\n",
      " 'Dorogomilovo' 'Timirjazevskoe' 'Lianozovo' 'Pechatniki' 'Krjukovo'\n",
      " 'Jasenevo' 'Chertanovo Severnoe' 'Rjazanskij' 'Silino' 'Ivanovskoe'\n",
      " 'Golovinskoe' 'Novokosino' 'Nagatino-Sadovniki' 'Birjulevo Vostochnoe'\n",
      " 'Severnoe Izmajlovo' 'Sokolinaja Gora' 'Vostochnoe Degunino'\n",
      " 'Prospekt Vernadskogo' 'Savelki' 'Ajeroport' 'Vojkovskoe'\n",
      " 'Beskudnikovskoe' 'Krylatskoe' 'Juzhnoportovoe' 'Perovo' 'Akademicheskoe'\n",
      " 'Horoshevo-Mnevniki' 'Shhukino' 'Kapotnja' 'Horoshevskoe' 'Marfino'\n",
      " 'Chertanovo Juzhnoe' 'Savelovskoe' 'Birjulevo Zapadnoe' 'Nekrasovka'\n",
      " 'Cheremushki' 'Sviblovo' 'Alekseevskoe' \"Krasnosel'skoe\" 'Kotlovka'\n",
      " 'Zjuzino' 'Ostankinskoe' 'Tverskoe' 'Losinoostrovskoe' 'Butyrskoe'\n",
      " 'Matushkino' 'Metrogorodok' 'Juzhnoe Medvedkovo' 'Lomonosovskoe'\n",
      " 'Jakimanka' 'Mozhajskoe' 'Levoberezhnoe' \"Mar'ina Roshha\" 'Gagarinskoe'\n",
      " \"Zamoskvorech'e\" \"Altuf'evskoe\" 'Ramenki' 'Zjablikovo' 'Meshhanskoe'\n",
      " 'Severnoe' 'Begovoe' 'Arbat' 'Poselenie Sosenskoe' 'Poselenie Moskovskij'\n",
      " 'Poselenie Pervomajskoe' 'Poselenie Desjonovskoe'\n",
      " 'Poselenie Voskresenskoe' 'Poselenie Mosrentgen' 'Troickij okrug'\n",
      " 'Poselenie Shherbinka' 'Poselenie Filimonkovskoe' 'Poselenie Vnukovskoe'\n",
      " 'Poselenie Marushkinskoe' 'Poselenie Shhapovskoe'\n",
      " 'Poselenie Rjazanovskoe' 'Poselenie Kokoshkino' 'Vostochnoe'\n",
      " 'Poselenie Krasnopahorskoe' 'Poselenie Novofedorovskoe'\n",
      " 'Poselenie Voronovskoe' 'Poselenie Klenovskoe' 'Poselenie Rogovskoe'\n",
      " 'Poselenie Kievskij' 'Molzhaninovskoe' 'Poselenie Mihajlovo-Jarcevskoe']\n",
      "culture_objects_top_25: ['no' 'yes']\n",
      "thermal_power_plant_raion: ['no' 'yes']\n",
      "incineration_raion: ['no' 'yes']\n",
      "oil_chemistry_raion: ['no' 'yes']\n",
      "radiation_raion: ['no' 'yes']\n",
      "railroad_terminal_raion: ['no' 'yes']\n",
      "big_market_raion: ['no' 'yes']\n",
      "nuclear_reactor_raion: ['no' 'yes']\n",
      "detention_facility_raion: ['no' 'yes']\n",
      "water_1line: ['no' 'yes']\n",
      "big_road1_1line: ['no' 'yes']\n",
      "railroad_1line: ['no' 'yes']\n",
      "ecology: ['good' 'excellent' 'poor' 'satisfactory' 'no data']\n"
     ]
    }
   ]
  },
  {
   "cell_type": "markdown",
   "source": [
    "Признаки где вариантов значения два заменим на 0/1(0 - No, 1 - yes)"
   ],
   "metadata": {
    "id": "r3inlo2TwOee"
   }
  },
  {
   "cell_type": "code",
   "source": [
    "col = df_train.columns\n",
    "for el in col:\n",
    "  if df_train[el].dtype == object:\n",
    "    if len(df_train[el].unique()) == 2 and el != 'product_type':\n",
    "      df_train[el] = df_train[el].replace('no', 0)\n",
    "      df_train[el] = df_train[el].replace('yes', 1)"
   ],
   "metadata": {
    "id": "YjCA4CkQxEqh",
    "ExecuteTime": {
     "end_time": "2024-03-30T14:09:50.044541Z",
     "start_time": "2024-03-30T14:09:49.931152Z"
    }
   },
   "execution_count": 55,
   "outputs": []
  },
  {
   "cell_type": "markdown",
   "source": [
    "Рассмотрим колонку с района москвы, где находится недвижимость, это сильно влияет на стоимоть, поэтому можно объединить признаки в округа москвы, а потом применить onehot_encode(), если применить этот метод к имеющимся данным, то датасет сильно раздуется, что может плохо повлиять на предсказание"
   ],
   "metadata": {
    "id": "5rwMxix3y1JZ"
   }
  },
  {
   "cell_type": "code",
   "source": [
    "def assign_ethnicity(row):\n",
    "    if row['sub_area'] in ['Arbat', 'Basmannoe', \"Zamoskvorech'e\",\n",
    "                           \"Krasnosel'skoe\", 'Meshhanskoe',\n",
    "                            'Presnenskoe', 'Taganskoe',\n",
    "                            'Tverskoe', 'Hamovniki', 'Jakimanka']:\n",
    "        return 'central'\n",
    "    elif row['sub_area'] in ['Ajeroport', 'Begovoe', 'Beskudnikovskoe',\n",
    "                            'Vojkovskoe', 'Vostochnoe Degunino',\n",
    "                            'Golovinskoe', 'Dmitrovskoe',\n",
    "                            'Zapadnoe Degunino', \"Koptevo\", 'Levoberezhnoe',\n",
    "                            'Molzhaninovskoe', 'Savelovskoe',\n",
    "                            'Sokol', 'Timirjazevskoe', 'Hovrino',\n",
    "                            'Horoshevskoe']:\n",
    "        return 'northern'\n",
    "    elif row['sub_area'] in ['Alekseevskoe', \"Altuf'evskoe\", 'Babushkinskoe',\n",
    "                             'Bibirevo', 'Butyrskoe',\n",
    "                              'Lianozovo', 'Losinoostrovskoe',\n",
    "                              'Marfino', \"Mar'ina Roshha\", 'Ostankinskoe',\n",
    "                              'Otradnoe', 'Rostokino', 'Sviblovo', 'Severnoe',\n",
    "                              'Severnoe Medvedkovo',\n",
    "                                        'Juzhnoe Medvedkovo', 'Jaroslavskoe']:\n",
    "        return 'northeastern'\n",
    "    elif row['sub_area'] in ['Bogorodskoe', 'Veshnjaki', 'Vostochnoe',\n",
    "                            'Vostochnoe Izmajlovo', \"Gol'janovo\",\n",
    "                            'Ivanovskoe', 'Izmajlovo', 'Kosino-Uhtomskoe',\n",
    "                            'Metrogorodok', 'Novogireevo',\n",
    "                            'Novokosino', 'Perovo', 'Preobrazhenskoe',\n",
    "                            'Severnoe Izmajlovo', 'Sokolinaja Gora',\n",
    "                                   \"Sokol'niki\"]:\n",
    "        return 'eastern'\n",
    "    elif row['sub_area'] in ['Vyhino-Zhulebino', 'Kapotnja', \"Kuz'minki\",\n",
    "                            \"Lefortovo\", 'Ljublino', \"Mar'ino\",\n",
    "                            'Nekrasovka', \"Nizhegorodskoe\",\n",
    "                             'Pechatniki', 'Rjazanskij', \"Tekstil'shhiki\",\n",
    "                                        'Juzhnoportovoe']:\n",
    "         return 'southeastern'\n",
    "    elif row['sub_area'] in  ['Birjulevo Vostochnoe', 'Birjulevo Zapadnoe',\n",
    "                             'Brateevo', 'Danilovskoe', 'Donskoe',\n",
    "                             'Zjablikovo', \"Moskvorech'e-Saburovo\",\n",
    "                             'Nagatino-Sadovniki', 'Nagatinskij Zaton',\n",
    "                             \"Nagornoe\", 'Orehovo-Borisovo Severnoe',\n",
    "                              'Orehovo-Borisovo Juzhnoe', 'Caricyno',\n",
    "                                    'Chertanovo Severnoe',\n",
    "                              \"Chertanovo Central'noe\", 'Chertanovo Juzhnoe']:\n",
    "         return 'southern'\n",
    "    elif row['sub_area'] in  ['Akademicheskoe', 'Gagarinskoe', 'Zjuzino',\n",
    "                             \"Kon'kovo\", 'Kotlovka',\n",
    "                                        'Lomonosovskoe', 'Obruchevskoe',\n",
    "                              'Severnoe Butovo', 'Teplyj Stan',\n",
    "                                        'Cheremushki',\n",
    "                                        'Juzhnoe Butovo', 'Jasenevo']:\n",
    "         return 'southwestern'\n",
    "    elif row['sub_area'] in  [\"Vnukovo\", 'Dorogomilovo', 'Krylatskoe', 'Kuncevo',\n",
    "                             'Mozhajskoe', 'Novo-Peredelkino',\n",
    "                                   'Ochakovo-Matveevskoe', 'Prospekt Vernadskogo',\n",
    "                              'Ramenki', 'Solncevo',\n",
    "                                   'Troparevo-Nikulino', 'Filevskij Park',\n",
    "                             'Fili Davydkovo']:\n",
    "         return 'western'\n",
    "    elif row['sub_area'] in  ['Kurkino', 'Mitino', 'Pokrovskoe Streshnevo',\n",
    "                             'Severnoe Tushino', 'Strogino',\n",
    "                                        'Horoshevo-Mnevniki', 'Shhukino',\n",
    "                              'Juzhnoe Tushino']:\n",
    "         return 'northwestern'\n",
    "    elif row['sub_area'] in  ['Matushkino', 'Savelki', 'Staroe Krjukovo',\n",
    "                             'Silino', 'Krjukovo']:\n",
    "         return 'zelenograd'\n",
    "    elif row['sub_area'] in  ['Poselenie Voskresenskoe', 'Poselenie Vnukovskoe',\n",
    "                             'Poselenie Desjonovskoe',\n",
    "                                          'Poselenie Kokoshkino',\n",
    "                              'Poselenie Marushkinskoe', 'Poselenie Moskovskij',\n",
    "                                          'Poselenie Mosrentgen',\n",
    "                              'Poselenie Rjazanovskoe', 'Poselenie Sosenskoe',\n",
    "                                          'Poselenie Filimonkovskoe', 'Poselenie Shherbinka']:\n",
    "         return 'novomoskovskiy'\n",
    "    else:\n",
    "         return 'troitskiy'\n",
    "\n",
    "\n",
    "df_train['sub_area'] = df_train.apply(assign_ethnicity, axis=1)"
   ],
   "metadata": {
    "id": "1tR2yfTe8YM7",
    "ExecuteTime": {
     "end_time": "2024-03-30T14:09:50.533821Z",
     "start_time": "2024-03-30T14:09:50.045545Z"
    }
   },
   "execution_count": 56,
   "outputs": []
  },
  {
   "cell_type": "code",
   "source": [
    "encoder = OneHotEncoder(handle_unknown='ignore')\n",
    "encoder_df = pd.DataFrame(encoder.fit_transform(df_train[['sub_area']]). toarray ())\n",
    "\n",
    "df_train = df_train.join (encoder_df)"
   ],
   "metadata": {
    "id": "PVpy3VD9ZOyp",
    "ExecuteTime": {
     "end_time": "2024-03-30T14:09:50.569431Z",
     "start_time": "2024-03-30T14:09:50.536336Z"
    }
   },
   "execution_count": 57,
   "outputs": []
  },
  {
   "cell_type": "code",
   "source": [
    "df_train.rename(columns = {0:'northeastern', 1:'southern', 2:'southeastern',\n",
    "                           3:'northwestern', 4:'central', 5: 'eastern', 6: 'northern',\n",
    "                           7:'western', 8:'zelenograd', 9:'southwestern',\n",
    "                           10: 'novomoskovskiy', 11: 'troitskiy'}, inplace = True )"
   ],
   "metadata": {
    "id": "cNPCh_5kZeAb",
    "ExecuteTime": {
     "end_time": "2024-03-30T14:09:50.573840Z",
     "start_time": "2024-03-30T14:09:50.570393Z"
    }
   },
   "execution_count": 58,
   "outputs": []
  },
  {
   "cell_type": "markdown",
   "source": [
    "Поработаем с колонкой 'ecology', можно заметить что есть колонки со знаением no data, следовательно это считается как пропуск, заполним эти пропуски средним значением по окраске - удовлетворительно('satisfactory')"
   ],
   "metadata": {
    "id": "f_5gjQTsdgr1"
   }
  },
  {
   "cell_type": "code",
   "source": [
    "df_train['ecology'] = df_train['ecology'].replace('no data', 'satisfactory')"
   ],
   "metadata": {
    "id": "7yZONMHejYBo",
    "ExecuteTime": {
     "end_time": "2024-03-30T14:09:50.578429Z",
     "start_time": "2024-03-30T14:09:50.574845Z"
    }
   },
   "execution_count": 59,
   "outputs": []
  },
  {
   "cell_type": "code",
   "source": [
    "encoder_df = pd.DataFrame(encoder.fit_transform(df_train[['ecology']]). toarray ())\n",
    "\n",
    "df_train = df_train.join (encoder_df)"
   ],
   "metadata": {
    "id": "iAZed1Wijmj0",
    "ExecuteTime": {
     "end_time": "2024-03-30T14:09:50.656394Z",
     "start_time": "2024-03-30T14:09:50.578429Z"
    }
   },
   "execution_count": 60,
   "outputs": []
  },
  {
   "cell_type": "code",
   "source": [
    "df_train.rename(columns = {0: 'good', 1: 'excellent', 2: 'poor', 3: 'satisfactory'}, inplace=True)"
   ],
   "metadata": {
    "id": "TJtX7tuJkEPs",
    "ExecuteTime": {
     "end_time": "2024-03-30T14:09:50.660371Z",
     "start_time": "2024-03-30T14:09:50.657408Z"
    }
   },
   "execution_count": 61,
   "outputs": []
  },
  {
   "cell_type": "code",
   "source": [
    "del df_train['ecology']"
   ],
   "metadata": {
    "id": "7tuL6a8IkbVc",
    "ExecuteTime": {
     "end_time": "2024-03-30T14:09:50.663737Z",
     "start_time": "2024-03-30T14:09:50.660371Z"
    }
   },
   "execution_count": 62,
   "outputs": []
  },
  {
   "cell_type": "markdown",
   "source": [
    "# Обработка пропусков"
   ],
   "metadata": {
    "id": "IcDdRF3xV9nK"
   }
  },
  {
   "cell_type": "code",
   "source": [
    "import io\n",
    "buffer = io.StringIO()\n",
    "colns = df_train.columns\n",
    "s = df_train.isnull().sum() / len(df_train) * 100\n",
    "with open(\"df_info.txt\", \"w\",\n",
    "          encoding=\"utf-8\") as f:\n",
    "    for i in range(len(colns)):\n",
    "        f.write(f\"{colns[i]}:  {str(round(s[i], 2))}%\\n\")"
   ],
   "metadata": {
    "id": "y-HkV80Y50hm",
    "ExecuteTime": {
     "end_time": "2024-03-30T14:09:50.688046Z",
     "start_time": "2024-03-30T14:09:50.663737Z"
    }
   },
   "execution_count": 63,
   "outputs": []
  },
  {
   "cell_type": "markdown",
   "source": [
    "В файле df_info.txt теперь хранить информация о столбцах, где присутствуют пропуски и их процентное соотношение\n",
    "\n",
    "\n"
   ],
   "metadata": {
    "id": "Fqj_zUyHkyxI"
   }
  },
  {
   "cell_type": "markdown",
   "source": [
    "1.life_sq:  20.56%\n",
    "Жилая площадь без учета нежилых помещений, мы предполагаем, что такие пропуски встречаются там, где нежилых помещений нет, следовательно пропуски можно заполнить информацией из столбца full_sq"
   ],
   "metadata": {
    "id": "mdy7AAvkq0pD"
   }
  },
  {
   "cell_type": "code",
   "source": [
    "df_train['life_sq'] = df_train['life_sq'].fillna(df_train['full_sq'])"
   ],
   "metadata": {
    "id": "r6kg3-wmr323",
    "ExecuteTime": {
     "end_time": "2024-03-30T14:09:50.692554Z",
     "start_time": "2024-03-30T14:09:50.689052Z"
    }
   },
   "execution_count": 64,
   "outputs": []
  },
  {
   "cell_type": "markdown",
   "source": [
    "2.floor: 0, 94% Этаж не указан в неквартирной недвижимости, поэтому заменим их 0"
   ],
   "metadata": {
    "id": "4wqv3ENHwOCr"
   }
  },
  {
   "cell_type": "code",
   "source": [
    "df_train['floor'] = df_train['floor'].fillna(0)"
   ],
   "metadata": {
    "id": "09vQbMpgxlvA",
    "ExecuteTime": {
     "end_time": "2024-03-30T14:09:50.698099Z",
     "start_time": "2024-03-30T14:09:50.694075Z"
    }
   },
   "execution_count": 65,
   "outputs": []
  },
  {
   "cell_type": "markdown",
   "source": [
    "3.Можно заметить, что далее в столбцах max_floor, material, built_year, num_room, kitch_kq, state большой и близций по значению процент пропусков, посмотрим на визуализацию пропусков"
   ],
   "metadata": {
    "id": "52YgbUXCx0DU"
   }
  },
  {
   "cell_type": "code",
   "source": [
    "plt.figure(figsize=(10,6))\n",
    "sns.heatmap(df_train[['max_floor', 'material', 'build_year', 'num_room', 'kitch_sq', 'state']].isna().transpose())"
   ],
   "metadata": {
    "id": "K2EWdx14XBWw",
    "ExecuteTime": {
     "end_time": "2024-03-30T14:09:52.009337Z",
     "start_time": "2024-03-30T14:09:50.698099Z"
    }
   },
   "execution_count": 66,
   "outputs": [
    {
     "data": {
      "text/plain": "<Axes: >"
     },
     "execution_count": 66,
     "metadata": {},
     "output_type": "execute_result"
    },
    {
     "data": {
      "text/plain": "<Figure size 1000x600 with 2 Axes>",
      "image/png": "[encoded data removed]"
     },
     "metadata": {},
     "output_type": "display_data"
    }
   ]
  },
  {
   "cell_type": "markdown",
   "source": [
    "Количество комнат, площадь кухни, материал дома - крайне важные признаки при оуенке картиры, также можно заметить, что эти пропуски в данных встречаются одновременно, поэтому можно удалить строки с пропусками в этих данных и потерять 53% данных\n"
   ],
   "metadata": {
    "id": "hYRoCH3Ly6ia"
   }
  },
  {
   "cell_type": "code",
   "source": [
    "df_train = df_train.dropna(subset=['num_room'])"
   ],
   "metadata": {
    "id": "nTosWGQvqPfC",
    "ExecuteTime": {
     "end_time": "2024-03-30T14:09:52.030686Z",
     "start_time": "2024-03-30T14:09:52.009337Z"
    }
   },
   "execution_count": 67,
   "outputs": []
  },
  {
   "cell_type": "code",
   "source": [
    "plt.figure(figsize=(10,6))\n",
    "sns.heatmap(df_train[['max_floor', 'material', 'build_year', 'num_room', 'kitch_sq', 'state']].isna().transpose())"
   ],
   "metadata": {
    "id": "yRb2csJi0n_l",
    "ExecuteTime": {
     "end_time": "2024-03-30T14:09:52.973066Z",
     "start_time": "2024-03-30T14:09:52.030686Z"
    }
   },
   "execution_count": 68,
   "outputs": [
    {
     "data": {
      "text/plain": "<Axes: >"
     },
     "execution_count": 68,
     "metadata": {},
     "output_type": "execute_result"
    },
    {
     "data": {
      "text/plain": "<Figure size 1000x600 with 2 Axes>",
      "image/png": "[encoded data removed]"
     },
     "metadata": {},
     "output_type": "display_data"
    }
   ]
  },
  {
   "cell_type": "markdown",
   "source": [
    "Можно заметить также пропуски в данных по состоянию квартиры и году постройки. Состояние недвижимости крайне важно, как и год постройки, также эти данные сложно заменить дургими значениями, поэтому строки с пропущенными значениями придется удалить"
   ],
   "metadata": {
    "id": "HRSapE6dClOt"
   }
  },
  {
   "cell_type": "code",
   "source": [
    "df_train = df_train.dropna(subset=['state'])\n",
    "df_train = df_train.dropna(subset=['build_year'])"
   ],
   "metadata": {
    "id": "nxzP6iH831d6",
    "ExecuteTime": {
     "end_time": "2024-03-30T14:09:53.006514Z",
     "start_time": "2024-03-30T14:09:52.974138Z"
    }
   },
   "execution_count": 69,
   "outputs": []
  },
  {
   "cell_type": "markdown",
   "source": [
    "Посмотрим на оставшиеся пропуски"
   ],
   "metadata": {
    "id": "t8e8Y2dC_aua"
   }
  },
  {
   "cell_type": "code",
   "source": [
    "plt.figure(figsize=(10,6))\n",
    "sns.heatmap(df_train.isna().transpose())"
   ],
   "metadata": {
    "id": "ApZNNsfr_c3H",
    "ExecuteTime": {
     "end_time": "2024-03-30T14:09:56.865809Z",
     "start_time": "2024-03-30T14:09:53.007519Z"
    }
   },
   "execution_count": 70,
   "outputs": [
    {
     "data": {
      "text/plain": "<Axes: >"
     },
     "execution_count": 70,
     "metadata": {},
     "output_type": "execute_result"
    },
    {
     "data": {
      "text/plain": "<Figure size 1000x600 with 2 Axes>",
      "image/png": "[encoded data removed]"
     },
     "metadata": {},
     "output_type": "display_data"
    }
   ]
  },
  {
   "cell_type": "markdown",
   "source": [
    "Посмотрим на корреляцию стобцов с пропусками, чтобы понять можем ли мы их удалить или нет"
   ],
   "metadata": {
    "id": "Qj__fO5mDSsV"
   }
  },
  {
   "cell_type": "code",
   "source": [
    "col = df_train.columns.tolist()\n",
    "s = df_train.isnull().sum ()/ len(df_train) * 100\n",
    "for i in range(len(col)):\n",
    "  if s[i] != 0:\n",
    "    print(f\"{col[i]}:  {df_train['price_doc'].corr(df_train[col[i]])}\")"
   ],
   "metadata": {
    "id": "QajUSPWtDRDU",
    "ExecuteTime": {
     "end_time": "2024-03-30T14:09:56.893977Z",
     "start_time": "2024-03-30T14:09:56.866813Z"
    }
   },
   "execution_count": 71,
   "outputs": [
    {
     "name": "stdout",
     "output_type": "stream",
     "text": [
      "preschool_quota:  -0.08368678579200245\n",
      "school_quota:  -0.01212512727913192\n",
      "hospital_beds_raion:  0.09038731088865894\n",
      "raion_build_count_with_material_info:  0.05029616451183128\n",
      "build_count_block:  -0.008697845061843679\n",
      "build_count_wood:  -0.042612385427284745\n",
      "build_count_frame:  -0.025761666904834807\n",
      "build_count_brick:  0.19900382903731165\n",
      "build_count_monolith:  0.11616987385488906\n",
      "build_count_panel:  -0.06645255662070838\n",
      "build_count_foam:  0.00155294677083487\n",
      "build_count_slag:  -0.0281051074377337\n",
      "build_count_mix:  -0.024920882515226\n",
      "raion_build_count_with_builddate_info:  0.05014460112971288\n",
      "build_count_before_1920:  0.1441104822956713\n",
      "build_count_1921-1945:  0.028606007444144443\n",
      "build_count_1946-1970:  0.039142796549390804\n",
      "build_count_1971-1995:  -0.055702515171370016\n",
      "build_count_after_1995:  0.016804475515647187\n",
      "metro_min_walk:  -0.18243595241280086\n",
      "metro_km_walk:  -0.18243595240686988\n",
      "railroad_station_walk_km:  -0.09925074144952664\n",
      "railroad_station_walk_min:  -0.09925074145218983\n",
      "ID_railroad_station_walk:  0.004973486643003752\n",
      "cafe_sum_500_min_price_avg:  0.07321081755451381\n",
      "cafe_sum_500_max_price_avg:  0.07458953421585036\n",
      "cafe_avg_price_500:  0.0742852943633478\n",
      "cafe_sum_1000_min_price_avg:  0.11281128828182446\n",
      "cafe_sum_1000_max_price_avg:  0.11099658361336287\n",
      "cafe_avg_price_1000:  0.11209638268021882\n",
      "cafe_sum_1500_min_price_avg:  0.14410967206185887\n",
      "cafe_sum_1500_max_price_avg:  0.14634328437170588\n",
      "cafe_avg_price_1500:  0.1459422988493395\n",
      "cafe_sum_2000_min_price_avg:  0.13219477637781338\n",
      "cafe_sum_2000_max_price_avg:  0.13434938776564231\n",
      "cafe_avg_price_2000:  0.13386793590792836\n",
      "cafe_sum_3000_min_price_avg:  0.07123555832479184\n",
      "cafe_sum_3000_max_price_avg:  0.06814535937068816\n",
      "cafe_avg_price_3000:  0.0694208231476183\n",
      "prom_part_5000:  0.04511094660365873\n",
      "cafe_sum_5000_min_price_avg:  0.08318812418221024\n",
      "cafe_sum_5000_max_price_avg:  0.08300574370378769\n",
      "cafe_avg_price_5000:  0.08314661317934337\n"
     ]
    }
   ]
  },
  {
   "cell_type": "markdown",
   "source": [
    "Удалим столбцы, где корреляция меньше 0,15 по модулю"
   ],
   "metadata": {
    "id": "kvwgmDj_FKK8"
   }
  },
  {
   "cell_type": "code",
   "source": [
    "col = df_train.columns.tolist()\n",
    "s = df_train.isnull().sum ()/ len(df_train) * 100\n",
    "for i in range(len(col)):\n",
    "  if s[i] != 0:\n",
    "    if abs(df_train['price_doc'].corr(df_train[col[i]])) <= 0.15:\n",
    "      del df_train[col[i]]"
   ],
   "metadata": {
    "id": "rlCBgN0TEFMv",
    "ExecuteTime": {
     "end_time": "2024-03-30T14:09:56.928166Z",
     "start_time": "2024-03-30T14:09:56.894982Z"
    }
   },
   "execution_count": 72,
   "outputs": []
  },
  {
   "cell_type": "code",
   "source": [
    "col = df_train.columns.tolist()\n",
    "s = df_train.isnull().sum ()/ len(df_train) * 100\n",
    "for i in range(len(col)):\n",
    "  if s[i] != 0:\n",
    "    print(f\"{col[i]}:  {df_train['price_doc'].corr(df_train[col[i]])}\")"
   ],
   "metadata": {
    "id": "-iH4LlCbHb_n",
    "ExecuteTime": {
     "end_time": "2024-03-30T14:09:56.943013Z",
     "start_time": "2024-03-30T14:09:56.929182Z"
    }
   },
   "execution_count": 73,
   "outputs": [
    {
     "name": "stdout",
     "output_type": "stream",
     "text": [
      "build_count_brick:  0.19900382903731165\n",
      "metro_min_walk:  -0.18243595241280086\n",
      "metro_km_walk:  -0.18243595240686988\n"
     ]
    }
   ]
  },
  {
   "cell_type": "markdown",
   "source": [
    "У нас остались пропуски в столбцах с расстоянием до метро и количество керпичей, заполним пропуски при помощи среднего(расстояние до метро в пределах мкад москве среднем одинакого https://alexeygoncharov.livejournal.com/50822.html) и моды(какое количество кирпичей чаще всего используют)"
   ],
   "metadata": {
    "id": "6l3GzsILIUFD"
   }
  },
  {
   "cell_type": "code",
   "source": [
    "df_train['build_count_brick'] = df_train['build_count_brick'].fillna(df_train['build_count_brick'].median())\n",
    "df_train['metro_min_walk'] = df_train['metro_min_walk'].fillna(df_train['metro_min_walk'].mean())\n",
    "df_train['metro_km_walk'] = df_train['metro_km_walk'].fillna(df_train['metro_km_walk'].mean())"
   ],
   "metadata": {
    "id": "0Sk2MnUhHhSn",
    "ExecuteTime": {
     "end_time": "2024-03-30T14:09:56.948274Z",
     "start_time": "2024-03-30T14:09:56.943013Z"
    }
   },
   "execution_count": 74,
   "outputs": []
  },
  {
   "cell_type": "markdown",
   "source": [
    "## Обработка лишних значений"
   ],
   "metadata": {
    "id": "J4EUfZZ-pCsr"
   }
  },
  {
   "cell_type": "markdown",
   "source": [
    "Коллинеарные признаки\n",
    "Коллинеарными называются признаки, которые сильно коррелируют друг с другом. В машинном обучении это приводит к снижению производительности обобщения данных из-за высокой дисперсии и меньшей интерпретируемости модели.\n",
    "\n",
    "https://proglib.io/p/feature-selector"
   ],
   "metadata": {
    "id": "tTkhszye_qKU"
   }
  },
  {
   "cell_type": "markdown",
   "source": [
    "###### FeatureSelector\n",
    "\n",
    "Класс для отбора признаков"
   ],
   "metadata": {
    "id": "zeEf-QDlIWvE"
   }
  },
  {
   "cell_type": "code",
   "source": [
    "# numpy and pandas for data manipulation\n",
    "import pandas as pd\n",
    "import numpy as np\n",
    "\n",
    "# model used for feature importances\n",
    "import lightgbm as lgb\n",
    "from sklearn.inspection import permutation_importance\n",
    "\n",
    "# utility for early stopping with a validation set\n",
    "from sklearn.model_selection import train_test_split\n",
    "\n",
    "# visualizations\n",
    "import matplotlib.pyplot as plt\n",
    "import seaborn as sns\n",
    "\n",
    "# memory management\n",
    "import gc\n",
    "\n",
    "# utilities\n",
    "from itertools import chain\n",
    "\n",
    "class FeatureSelector():\n",
    "    \"\"\"\n",
    "    Class for performing feature selection for machine learning or data preprocessing.\n",
    "\n",
    "    Implements five different methods to identify features for removal\n",
    "\n",
    "        1. Find columns with a missing percentage greater than a specified threshold\n",
    "        2. Find columns with a single unique value\n",
    "        3. Find collinear variables with a correlation greater than a specified correlation coefficient\n",
    "        4. Find features with 0.0 feature importance from a gradient boosting machine (gbm)\n",
    "        5. Find low importance features that do not contribute to a specified cumulative feature importance from the gbm\n",
    "\n",
    "    Parameters\n",
    "    --------\n",
    "        data : dataframe\n",
    "            A dataset with observations in the rows and features in the columns\n",
    "\n",
    "        labels : array or series, default = None\n",
    "            Array of labels for training the machine learning model to find feature importances. These can be either binary labels\n",
    "            (if task is 'classification') or continuous targets (if task is 'regression').\n",
    "            If no labels are provided, then the feature importance based methods are not available.\n",
    "\n",
    "    Attributes\n",
    "    --------\n",
    "\n",
    "    ops : dict\n",
    "        Dictionary of operations run and features identified for removal\n",
    "\n",
    "    missing_stats : dataframe\n",
    "        The fraction of missing values for all features\n",
    "\n",
    "    record_missing : dataframe\n",
    "        The fraction of missing values for features with missing fraction above threshold\n",
    "\n",
    "    unique_stats : dataframe\n",
    "        Number of unique values for all features\n",
    "\n",
    "    record_single_unique : dataframe\n",
    "        Records the features that have a single unique value\n",
    "\n",
    "    corr_matrix : dataframe\n",
    "        All correlations between all features in the data\n",
    "\n",
    "    record_collinear : dataframe\n",
    "        Records the pairs of collinear variables with a correlation coefficient above the threshold\n",
    "\n",
    "    feature_importances : dataframe\n",
    "        All feature importances from the gradient boosting machine\n",
    "\n",
    "    record_zero_importance : dataframe\n",
    "        Records the zero importance features in the data according to the gbm\n",
    "\n",
    "    record_low_importance : dataframe\n",
    "        Records the lowest importance features not needed to reach the threshold of cumulative importance according to the gbm\n",
    "\n",
    "\n",
    "    Notes\n",
    "    --------\n",
    "\n",
    "        - All 5 operations can be run with the `identify_all` method.\n",
    "        - If using feature importances, one-hot encoding is used for categorical variables which creates new columns\n",
    "\n",
    "    \"\"\"\n",
    "\n",
    "    def __init__(self, data, labels=None):\n",
    "\n",
    "        # Dataset and optional training labels\n",
    "        self.data = data\n",
    "        self.labels = labels\n",
    "\n",
    "        if labels is None:\n",
    "            print('No labels provided. Feature importance based methods are not available.')\n",
    "\n",
    "        self.base_features = list(data.columns)\n",
    "        self.one_hot_features = None\n",
    "\n",
    "        # Dataframes recording information about features to remove\n",
    "        self.record_missing = None\n",
    "        self.record_single_unique = None\n",
    "        self.record_collinear = None\n",
    "        self.record_zero_importance = None\n",
    "        self.record_low_importance = None\n",
    "\n",
    "        self.missing_stats = None\n",
    "        self.unique_stats = None\n",
    "        self.corr_matrix = None\n",
    "        self.feature_importances = None\n",
    "\n",
    "        # Dictionary to hold removal operations\n",
    "        self.ops = {}\n",
    "\n",
    "        self.one_hot_correlated = False\n",
    "\n",
    "    def identify_missing(self, missing_threshold):\n",
    "        \"\"\"Find the features with a fraction of missing values above `missing_threshold`\"\"\"\n",
    "\n",
    "        self.missing_threshold = missing_threshold\n",
    "\n",
    "        # Calculate the fraction of missing in each column\n",
    "        missing_series = self.data.isnull().sum() / self.data.shape[0]\n",
    "        self.missing_stats = pd.DataFrame(missing_series).rename(columns = {'index': 'feature', 0: 'missing_fraction'})\n",
    "\n",
    "        # Sort with highest number of missing values on top\n",
    "        self.missing_stats = self.missing_stats.sort_values('missing_fraction', ascending = False)\n",
    "\n",
    "        # Find the columns with a missing percentage above the threshold\n",
    "        record_missing = pd.DataFrame(missing_series[missing_series > missing_threshold]).reset_index().rename(columns =\n",
    "                                                                                                               {'index': 'feature',\n",
    "                                                                                                                0: 'missing_fraction'})\n",
    "\n",
    "        to_drop = list(record_missing['feature'])\n",
    "\n",
    "        self.record_missing = record_missing\n",
    "        self.ops['missing'] = to_drop\n",
    "\n",
    "        print('%d features with greater than %0.2f missing values.\\n' % (len(self.ops['missing']), self.missing_threshold))\n",
    "\n",
    "    def identify_single_unique(self):\n",
    "        \"\"\"Finds features with only a single unique value. NaNs do not count as a unique value. \"\"\"\n",
    "\n",
    "        # Calculate the unique counts in each column\n",
    "        unique_counts = self.data.nunique()\n",
    "        self.unique_stats = pd.DataFrame(unique_counts).rename(columns = {'index': 'feature', 0: 'nunique'})\n",
    "        self.unique_stats = self.unique_stats.sort_values('nunique', ascending = True)\n",
    "\n",
    "        # Find the columns with only one unique count\n",
    "        record_single_unique = pd.DataFrame(unique_counts[unique_counts == 1]).reset_index().rename(columns = {'index': 'feature',\n",
    "                                                                                                                0: 'nunique'})\n",
    "\n",
    "        to_drop = list(record_single_unique['feature'])\n",
    "\n",
    "        self.record_single_unique = record_single_unique\n",
    "        self.ops['single_unique'] = to_drop\n",
    "\n",
    "        print('%d features with a single unique value.\\n' % len(self.ops['single_unique']))\n",
    "\n",
    "    def identify_collinear(self, correlation_threshold, one_hot=False):\n",
    "        \"\"\"\n",
    "        Finds collinear features based on the correlation coefficient between features.\n",
    "        For each pair of features with a correlation coefficient greather than `correlation_threshold`,\n",
    "        only one of the pair is identified for removal.\n",
    "\n",
    "        Using code adapted from: https://chrisalbon.com/machine_learning/feature_selection/drop_highly_correlated_features/\n",
    "\n",
    "        Parameters\n",
    "        --------\n",
    "\n",
    "        correlation_threshold : float between 0 and 1\n",
    "            Value of the Pearson correlation cofficient for identifying correlation features\n",
    "\n",
    "        one_hot : boolean, default = False\n",
    "            Whether to one-hot encode the features before calculating the correlation coefficients\n",
    "\n",
    "        \"\"\"\n",
    "\n",
    "        self.correlation_threshold = correlation_threshold\n",
    "        self.one_hot_correlated = one_hot\n",
    "\n",
    "         # Calculate the correlations between every column\n",
    "        if one_hot:\n",
    "\n",
    "            # One hot encoding\n",
    "            features = pd.get_dummies(self.data)\n",
    "            self.one_hot_features = [column for column in features.columns if column not in self.base_features]\n",
    "\n",
    "            # Add one hot encoded data to original data\n",
    "            self.data_all = pd.concat([features[self.one_hot_features], self.data], axis = 1)\n",
    "\n",
    "            corr_matrix = pd.get_dummies(features).corr()\n",
    "\n",
    "        else:\n",
    "            corr_matrix = self.data.corr()\n",
    "\n",
    "        self.corr_matrix = corr_matrix\n",
    "\n",
    "        # Extract the upper triangle of the correlation matrix\n",
    "        upper = corr_matrix.where(np.triu(np.ones(corr_matrix.shape), k = 1).astype(bool))\n",
    "\n",
    "        # Select the features with correlations above the threshold\n",
    "        # Need to use the absolute value\n",
    "        to_drop = [column for column in upper.columns if any(upper[column].abs() > correlation_threshold)]\n",
    "\n",
    "        # Dataframe to hold correlated pairs\n",
    "        record_collinear = pd.DataFrame(columns = ['drop_feature', 'corr_feature', 'corr_value'])\n",
    "\n",
    "        # Iterate through the columns to drop to record pairs of correlated features\n",
    "        for column in to_drop:\n",
    "\n",
    "            # Find the correlated features\n",
    "            corr_features = list(upper.index[upper[column].abs() > correlation_threshold])\n",
    "\n",
    "            # Find the correlated values\n",
    "            corr_values = list(upper[column][upper[column].abs() > correlation_threshold])\n",
    "            drop_features = [column for _ in range(len(corr_features))]\n",
    "\n",
    "            # Record the information (need a temp df for now)\n",
    "            temp_df = pd.DataFrame.from_dict({'drop_feature': drop_features,\n",
    "                                             'corr_feature': corr_features,\n",
    "                                             'corr_value': corr_values})\n",
    "\n",
    "            # Add to dataframe\n",
    "            record_collinear = record_collinear.append(temp_df, ignore_index = True)\n",
    "\n",
    "        self.record_collinear = record_collinear\n",
    "        self.ops['collinear'] = to_drop\n",
    "\n",
    "        print('%d features with a correlation magnitude greater than %0.2f.\\n' % (len(self.ops['collinear']), self.correlation_threshold))\n",
    "\n",
    "    def identify_zero_importance(self, task, eval_metric=None,\n",
    "                                 n_iterations=10, early_stopping = True,\n",
    "                                 importance_type = 'split', n_permutations=10):\n",
    "        \"\"\"\n",
    "\n",
    "        Identify the features with zero importance according to a gradient boosting machine.\n",
    "        The gbm can be trained with early stopping using a validation set to prevent overfitting.\n",
    "        The feature importances are averaged over `n_iterations` to reduce variance.\n",
    "\n",
    "        Uses the LightGBM implementation (http://lightgbm.readthedocs.io/en/latest/index.html)\n",
    "\n",
    "        Parameters\n",
    "        --------\n",
    "\n",
    "        eval_metric : string\n",
    "            Evaluation metric to use for the gradient boosting machine for early stopping. Must be\n",
    "            provided if `early_stopping` is True\n",
    "\n",
    "        task : string\n",
    "            The machine learning task, either 'classification' or 'regression'\n",
    "\n",
    "        n_iterations : int, default = 10\n",
    "            Number of iterations to train the gradient boosting machine\n",
    "\n",
    "        early_stopping : boolean, default = True\n",
    "            Whether or not to use early stopping with a validation set when training\n",
    "\n",
    "        importance_type : string, optional (default='split')\n",
    "            The type of feature importance to be used.\n",
    "            If 'split', numbers of times the feature is used in a model.\n",
    "            If 'gain', total gains of splits which use the feature.\n",
    "            If 'permutation', permutation importance is calcaulted based on sklearn.inspection.permutation_importance\n",
    "\n",
    "        n_permutations : int, optional (default=10)\n",
    "            Number of permutation repeats for importance_type='permutation'\n",
    "\n",
    "\n",
    "        Notes\n",
    "        --------\n",
    "\n",
    "        - Features are one-hot encoded to handle the categorical variables before training.\n",
    "        - The gbm is not optimized for any particular task and might need some hyperparameter tuning\n",
    "        - Feature importances, including zero importance features, can change across runs\n",
    "\n",
    "        \"\"\"\n",
    "\n",
    "        if early_stopping and eval_metric is None:\n",
    "            raise ValueError(\"\"\"eval metric must be provided with early stopping. Examples include \"auc\" for classification,\n",
    "                             \"l2\" for regression, or \"quantile\" for quantile\"\"\")\n",
    "\n",
    "        if self.labels is None:\n",
    "            raise ValueError(\"No training labels provided.\")\n",
    "\n",
    "        # One hot encoding\n",
    "        features = pd.get_dummies(self.data)\n",
    "        self.one_hot_features = [column for column in features.columns if column not in self.base_features]\n",
    "\n",
    "        # Add one hot encoded data to original data\n",
    "        self.data_all = pd.concat([features[self.one_hot_features], self.data], axis = 1)\n",
    "\n",
    "        # Extract feature names\n",
    "        feature_names = list(features.columns)\n",
    "\n",
    "        # Convert to np array\n",
    "        features = np.array(features)\n",
    "        labels = np.array(self.labels).reshape((-1, ))\n",
    "\n",
    "        # Empty array for feature importances\n",
    "        feature_importance_values = np.zeros(len(feature_names))\n",
    "\n",
    "        print('Training Gradient Boosting Model\\n')\n",
    "\n",
    "        # Iterate through each fold\n",
    "        lgb_params = {\n",
    "          'n_jobs': -1,\n",
    "          'n_estimators': 2000,\n",
    "          'learning_rate': 0.05,\n",
    "          'importance_type': importance_type\n",
    "        }\n",
    "\n",
    "        for i in range(n_iterations):\n",
    "\n",
    "            if task == 'classification':\n",
    "                model = lgb.LGBMClassifier(**lgb_params)\n",
    "\n",
    "            elif task == 'regression':\n",
    "                model = lgb.LGBMRegressor(**lgb_params)\n",
    "\n",
    "            elif task == 'quantile':\n",
    "              # try different alphas\n",
    "                alpha = 0.01 + 0.99/n_iterations*i\n",
    "                model = lgb.LGBMRegressor(objective='quantile', alpha=alpha, **lgb_params)\n",
    "\n",
    "            else:\n",
    "                raise ValueError('Task must be either \"classification\", \"regression\", or \"quantile\"')\n",
    "\n",
    "            # If training using early stopping or using permutations need a validation set\n",
    "            if early_stopping or importance_type == 'permutation':\n",
    "                if task == 'classification':\n",
    "                    train_features, valid_features, train_labels, valid_labels = train_test_split(features, labels, test_size = 0.2, stratify=labels)\n",
    "                elif task in ['regression', 'quantile']:\n",
    "                    train_features, valid_features, train_labels, valid_labels = train_test_split(features, labels, test_size = 0.2)\n",
    "\n",
    "                if early_stopping:\n",
    "                    # Train the model with early stopping\n",
    "                    model.fit(train_features, train_labels, eval_metric = eval_metric,\n",
    "                              eval_set = [(valid_features, valid_labels)],\n",
    "                              early_stopping_rounds = 100, verbose = -1)\n",
    "                else:\n",
    "                    model.fit(train_features, train_labels)\n",
    "\n",
    "            else:\n",
    "                model.fit(features, labels)\n",
    "\n",
    "            # Record the feature importances\n",
    "            if importance_type == 'permutation':\n",
    "                # calculate permutation importance\n",
    "                r = permutation_importance(model, valid_features, valid_labels,\n",
    "                           n_repeats=n_permutations, n_jobs = -1)\n",
    "                feature_importance_values += r.importances_mean / n_iterations\n",
    "\n",
    "            else:\n",
    "                feature_importance_values += model.feature_importances_ / n_iterations\n",
    "\n",
    "            # Clean up memory\n",
    "            gc.enable()\n",
    "            del train_features, train_labels, valid_features, valid_labels\n",
    "            gc.collect()\n",
    "\n",
    "        feature_importances = pd.DataFrame({'feature': feature_names, 'importance': feature_importance_values})\n",
    "\n",
    "        # Sort features according to importance\n",
    "        feature_importances = feature_importances.sort_values('importance', ascending = False).reset_index(drop = True)\n",
    "\n",
    "        # Normalize the feature importances to add up to one\n",
    "        postive_features_sum = (feature_importances['importance'] * (feature_importances['importance'] >= 0)).sum()\n",
    "        feature_importances['normalized_importance'] = feature_importances['importance'] / postive_features_sum\n",
    "        feature_importances['cumulative_importance'] = np.cumsum(feature_importances['normalized_importance'])\n",
    "\n",
    "        # Extract the features with zero or negative importance\n",
    "        record_zero_importance = feature_importances[feature_importances['importance'] <= 0.0]\n",
    "\n",
    "        to_drop = list(record_zero_importance['feature'])\n",
    "\n",
    "        self.feature_importances = feature_importances\n",
    "        self.record_zero_importance = record_zero_importance\n",
    "        self.ops['zero_importance'] = to_drop\n",
    "\n",
    "        print('\\n%d features with zero or negative importance after one-hot encoding.\\n' % len(self.ops['zero_importance']))\n",
    "\n",
    "    def identify_low_importance(self, cumulative_importance):\n",
    "        \"\"\"\n",
    "        Finds the lowest importance features not needed to account for `cumulative_importance` fraction\n",
    "        of the total feature importance from the gradient boosting machine. As an example, if cumulative\n",
    "        importance is set to 0.95, this will retain only the most important features needed to\n",
    "        reach 95% of the total feature importance. The identified features are those not needed.\n",
    "\n",
    "        Parameters\n",
    "        --------\n",
    "        cumulative_importance : float between 0 and 1\n",
    "            The fraction of cumulative importance to account for\n",
    "\n",
    "        \"\"\"\n",
    "\n",
    "        self.cumulative_importance = cumulative_importance\n",
    "\n",
    "        # The feature importances need to be calculated before running\n",
    "        if self.feature_importances is None:\n",
    "            raise NotImplementedError(\"\"\"Feature importances have not yet been determined.\n",
    "                                         Call the `identify_zero_importance` method first.\"\"\")\n",
    "\n",
    "        # Make sure most important features are on top\n",
    "        self.feature_importances = self.feature_importances.sort_values('cumulative_importance')\n",
    "\n",
    "        # Identify the features not needed to reach the cumulative_importance\n",
    "        record_low_importance = self.feature_importances[self.feature_importances['cumulative_importance'] > cumulative_importance]\n",
    "\n",
    "        to_drop = list(record_low_importance['feature'])\n",
    "\n",
    "        self.record_low_importance = record_low_importance\n",
    "        self.ops['low_importance'] = to_drop\n",
    "\n",
    "        print('%d features required for cumulative importance of %0.2f after one hot encoding.' % (len(self.feature_importances) -\n",
    "                                                                            len(self.record_low_importance), self.cumulative_importance))\n",
    "        print('%d features do not contribute to cumulative importance of %0.2f.\\n' % (len(self.ops['low_importance']),\n",
    "                                                                                               self.cumulative_importance))\n",
    "\n",
    "    def identify_all(self, selection_params):\n",
    "        \"\"\"\n",
    "        Use all five of the methods to identify features to remove.\n",
    "\n",
    "        Parameters\n",
    "        --------\n",
    "\n",
    "        selection_params : dict\n",
    "           Parameters to use in the five feature selection methhods.\n",
    "           Params must contain the keys ['missing_threshold', 'correlation_threshold', 'eval_metric', 'task', 'cumulative_importance', 'importance_type']\n",
    "\n",
    "        \"\"\"\n",
    "\n",
    "        # Check for all required parameters\n",
    "        for param in ['missing_threshold', 'correlation_threshold', 'eval_metric', 'task', 'cumulative_importance']:\n",
    "            if param not in selection_params.keys():\n",
    "                raise ValueError('%s is a required parameter for this method.' % param)\n",
    "\n",
    "        # Implement each of the five methods\n",
    "        self.identify_missing(selection_params['missing_threshold'])\n",
    "        self.identify_single_unique()\n",
    "        self.identify_collinear(selection_params['correlation_threshold'])\n",
    "        self.identify_zero_importance(task = selection_params['task'], eval_metric = selection_params['eval_metric'],\n",
    "                                      importance_type = selection_params['importance_type'])\n",
    "        self.identify_low_importance(selection_params['cumulative_importance'])\n",
    "\n",
    "        # Find the number of features identified to drop\n",
    "        self.all_identified = set(list(chain(*list(self.ops.values()))))\n",
    "        self.n_identified = len(self.all_identified)\n",
    "\n",
    "        print('%d total features out of %d identified for removal after one-hot encoding.\\n' % (self.n_identified,\n",
    "                                                                                                  self.data_all.shape[1]))\n",
    "\n",
    "    def check_removal(self, keep_one_hot=True):\n",
    "\n",
    "        \"\"\"Check the identified features before removal. Returns a list of the unique features identified.\"\"\"\n",
    "\n",
    "        self.all_identified = set(list(chain(*list(self.ops.values()))))\n",
    "        print('Total of %d features identified for removal' % len(self.all_identified))\n",
    "\n",
    "        if not keep_one_hot:\n",
    "            if self.one_hot_features is None:\n",
    "                print('Data has not been one-hot encoded')\n",
    "            else:\n",
    "                one_hot_to_remove = [x for x in self.one_hot_features if x not in self.all_identified]\n",
    "                print('%d additional one-hot features can be removed' % len(one_hot_to_remove))\n",
    "\n",
    "        return list(self.all_identified)\n",
    "\n",
    "\n",
    "    def remove(self, methods, keep_one_hot = True):\n",
    "        \"\"\"\n",
    "        Remove the features from the data according to the specified methods.\n",
    "\n",
    "        Parameters\n",
    "        --------\n",
    "            methods : 'all' or list of methods\n",
    "                If methods == 'all', any methods that have identified features will be used\n",
    "                Otherwise, only the specified methods will be used.\n",
    "                Can be one of ['missing', 'single_unique', 'collinear', 'zero_importance', 'low_importance']\n",
    "            keep_one_hot : boolean, default = True\n",
    "                Whether or not to keep one-hot encoded features\n",
    "\n",
    "        Return\n",
    "        --------\n",
    "            data : dataframe\n",
    "                Dataframe with identified features removed\n",
    "\n",
    "\n",
    "        Notes\n",
    "        --------\n",
    "            - If feature importances are used, the one-hot encoded columns will be added to the data (and then may be removed)\n",
    "            - Check the features that will be removed before transforming data!\n",
    "\n",
    "        \"\"\"\n",
    "\n",
    "\n",
    "        features_to_drop = []\n",
    "\n",
    "        if methods == 'all':\n",
    "\n",
    "            # Need to use one-hot encoded data as well\n",
    "            data = self.data_all\n",
    "\n",
    "            print('{} methods have been run\\n'.format(list(self.ops.keys())))\n",
    "\n",
    "            # Find the unique features to drop\n",
    "            features_to_drop = set(list(chain(*list(self.ops.values()))))\n",
    "\n",
    "        else:\n",
    "            # Need to use one-hot encoded data as well\n",
    "            if 'zero_importance' in methods or 'low_importance' in methods or self.one_hot_correlated:\n",
    "                data = self.data_all\n",
    "\n",
    "            else:\n",
    "                data = self.data\n",
    "\n",
    "            # Iterate through the specified methods\n",
    "            for method in methods:\n",
    "\n",
    "                # Check to make sure the method has been run\n",
    "                if method not in self.ops.keys():\n",
    "                    raise NotImplementedError('%s method has not been run' % method)\n",
    "\n",
    "                # Append the features identified for removal\n",
    "                else:\n",
    "                    features_to_drop.append(self.ops[method])\n",
    "\n",
    "            # Find the unique features to drop\n",
    "            features_to_drop = set(list(chain(*features_to_drop)))\n",
    "\n",
    "        features_to_drop = list(features_to_drop)\n",
    "\n",
    "        if not keep_one_hot:\n",
    "\n",
    "            if self.one_hot_features is None:\n",
    "                print('Data has not been one-hot encoded')\n",
    "            else:\n",
    "\n",
    "                features_to_drop = list(set(features_to_drop) | set(self.one_hot_features))\n",
    "\n",
    "        # Remove the features and return the data\n",
    "        data = data.drop(columns = features_to_drop)\n",
    "        self.removed_features = features_to_drop\n",
    "\n",
    "        if not keep_one_hot:\n",
    "        \tprint('Removed %d features including one-hot features.' % len(features_to_drop))\n",
    "        else:\n",
    "        \tprint('Removed %d features.' % len(features_to_drop))\n",
    "\n",
    "        return data\n",
    "\n",
    "    def plot_missing(self):\n",
    "        \"\"\"Histogram of missing fraction in each feature\"\"\"\n",
    "        if self.record_missing is None:\n",
    "            raise NotImplementedError(\"Missing values have not been calculated. Run `identify_missing`\")\n",
    "\n",
    "        self.reset_plot()\n",
    "\n",
    "        # Histogram of missing values\n",
    "        plt.style.use('seaborn-white')\n",
    "        plt.figure(figsize = (7, 5))\n",
    "        plt.hist(self.missing_stats['missing_fraction'], bins = np.linspace(0, 1, 11), edgecolor = 'k', color = 'red', linewidth = 1.5)\n",
    "        plt.xticks(np.linspace(0, 1, 11));\n",
    "        plt.xlabel('Missing Fraction', size = 14); plt.ylabel('Count of Features', size = 14);\n",
    "        plt.title(\"Fraction of Missing Values Histogram\", size = 16);\n",
    "\n",
    "\n",
    "    def plot_unique(self):\n",
    "        \"\"\"Histogram of number of unique values in each feature\"\"\"\n",
    "        if self.record_single_unique is None:\n",
    "            raise NotImplementedError('Unique values have not been calculated. Run `identify_single_unique`')\n",
    "\n",
    "        self.reset_plot()\n",
    "\n",
    "        # Histogram of number of unique values\n",
    "        self.unique_stats.plot.hist(edgecolor = 'k', figsize = (7, 5))\n",
    "        plt.ylabel('Frequency', size = 14); plt.xlabel('Unique Values', size = 14);\n",
    "        plt.title('Number of Unique Values Histogram', size = 16);\n",
    "\n",
    "\n",
    "    def plot_collinear(self, plot_all = False):\n",
    "        \"\"\"\n",
    "        Heatmap of the correlation values. If plot_all = True plots all the correlations otherwise\n",
    "        plots only those features that have a correlation above the threshold\n",
    "\n",
    "        Notes\n",
    "        --------\n",
    "            - Not all of the plotted correlations are above the threshold because this plots\n",
    "            all the variables that have been idenfitied as having even one correlation above the threshold\n",
    "            - The features on the x-axis are those that will be removed. The features on the y-axis\n",
    "            are the correlated features with those on the x-axis\n",
    "\n",
    "        Code adapted from https://seaborn.pydata.org/examples/many_pairwise_correlations.html\n",
    "        \"\"\"\n",
    "\n",
    "        if self.record_collinear is None:\n",
    "            raise NotImplementedError('Collinear features have not been idenfitied. Run `identify_collinear`.')\n",
    "\n",
    "        if plot_all:\n",
    "        \tcorr_matrix_plot = self.corr_matrix\n",
    "        \ttitle = 'All Correlations'\n",
    "\n",
    "        else:\n",
    "\t        # Identify the correlations that were above the threshold\n",
    "\t        # columns (x-axis) are features to drop and rows (y_axis) are correlated pairs\n",
    "\t        corr_matrix_plot = self.corr_matrix.loc[list(set(self.record_collinear['corr_feature'])),\n",
    "\t                                                list(set(self.record_collinear['drop_feature']))]\n",
    "\n",
    "\t        title = \"Correlations Above Threshold\"\n",
    "\n",
    "\n",
    "        f, ax = plt.subplots(figsize=(10, 8))\n",
    "\n",
    "        # Diverging colormap\n",
    "        cmap = sns.diverging_palette(220, 10, as_cmap=True)\n",
    "\n",
    "        # Draw the heatmap with a color bar\n",
    "        sns.heatmap(corr_matrix_plot, cmap=cmap, center=0,\n",
    "                    linewidths=.25, cbar_kws={\"shrink\": 0.6})\n",
    "\n",
    "        # Set the ylabels\n",
    "        ax.set_yticks([x + 0.5 for x in list(range(corr_matrix_plot.shape[0]))])\n",
    "        ax.set_yticklabels(list(corr_matrix_plot.index), size = int(160 / corr_matrix_plot.shape[0]));\n",
    "\n",
    "        # Set the xlabels\n",
    "        ax.set_xticks([x + 0.5 for x in list(range(corr_matrix_plot.shape[1]))])\n",
    "        ax.set_xticklabels(list(corr_matrix_plot.columns), size = int(160 / corr_matrix_plot.shape[1]));\n",
    "        plt.title(title, size = 14)\n",
    "\n",
    "    def plot_feature_importances(self, plot_n = 15, threshold = None):\n",
    "        \"\"\"\n",
    "        Plots `plot_n` most important features and the cumulative importance of features.\n",
    "        If `threshold` is provided, prints the number of features needed to reach `threshold` cumulative importance.\n",
    "\n",
    "        Parameters\n",
    "        --------\n",
    "\n",
    "        plot_n : int, default = 15\n",
    "            Number of most important features to plot. Defaults to 15 or the maximum number of features whichever is smaller\n",
    "\n",
    "        threshold : float, between 0 and 1 default = None\n",
    "            Threshold for printing information about cumulative importances\n",
    "\n",
    "        \"\"\"\n",
    "\n",
    "        if self.record_zero_importance is None:\n",
    "            raise NotImplementedError('Feature importances have not been determined. Run `idenfity_zero_importance`')\n",
    "\n",
    "        # Need to adjust number of features if greater than the features in the data\n",
    "        if plot_n > self.feature_importances.shape[0]:\n",
    "            plot_n = self.feature_importances.shape[0] - 1\n",
    "\n",
    "        self.reset_plot()\n",
    "\n",
    "        # Make a horizontal bar chart of feature importances\n",
    "        plt.figure(figsize = (10, 6))\n",
    "        ax = plt.subplot()\n",
    "\n",
    "        # Need to reverse the index to plot most important on top\n",
    "        # There might be a more efficient method to accomplish this\n",
    "        ax.barh(list(reversed(list(self.feature_importances.index[:plot_n]))),\n",
    "                self.feature_importances['normalized_importance'][:plot_n],\n",
    "                align = 'center', edgecolor = 'k')\n",
    "\n",
    "        # Set the yticks and labels\n",
    "        ax.set_yticks(list(reversed(list(self.feature_importances.index[:plot_n]))))\n",
    "        ax.set_yticklabels(self.feature_importances['feature'][:plot_n], size = 12)\n",
    "\n",
    "        # Plot labeling\n",
    "        plt.xlabel('Normalized Importance', size = 16); plt.title('Feature Importances', size = 18)\n",
    "        plt.show()\n",
    "\n",
    "        # Cumulative importance plot\n",
    "        plt.figure(figsize = (6, 4))\n",
    "        plt.plot(list(range(1, len(self.feature_importances) + 1)), self.feature_importances['cumulative_importance'], 'r-')\n",
    "        plt.xlabel('Number of Features', size = 14); plt.ylabel('Cumulative Importance', size = 14);\n",
    "        plt.title('Cumulative Feature Importance', size = 16);\n",
    "\n",
    "        if threshold:\n",
    "\n",
    "            # Index of minimum number of features needed for cumulative importance threshold\n",
    "            # np.where returns the index so need to add 1 to have correct number\n",
    "            importance_index = np.min(np.where(self.feature_importances['cumulative_importance'] > threshold))\n",
    "            plt.vlines(x = importance_index + 1, ymin = 0, ymax = 1, linestyles='--', colors = 'blue')\n",
    "            plt.show();\n",
    "\n",
    "            print('%d features required for %0.2f of cumulative importance' % (importance_index + 1, threshold))\n",
    "\n",
    "    def reset_plot(self):\n",
    "        plt.rcParams = plt.rcParamsDefault\n"
   ],
   "metadata": {
    "id": "olZmFRkWIT3c",
    "ExecuteTime": {
     "end_time": "2024-03-30T14:09:56.975382Z",
     "start_time": "2024-03-30T14:09:56.950286Z"
    }
   },
   "execution_count": 75,
   "outputs": []
  },
  {
   "cell_type": "markdown",
   "source": [
    "###### Обработка лишних значений"
   ],
   "metadata": {
    "id": "etgpQEWxIoDn"
   }
  },
  {
   "cell_type": "code",
   "source": [
    "df_train_numeric = df_train.copy()  # создаём копию данных, т.к. признаки будут удалятся\n",
    "\n",
    "col = df_train_numeric.columns\n",
    "for el in col:\n",
    "  if df_train_numeric[el].dtype == object or el == 'id':\n",
    "      print(el)\n",
    "      del df_train_numeric[el]  # удаляем все стоблцы с типом object, т.к. их отбор не возможен"
   ],
   "metadata": {
    "id": "7KaVRaDnJaRG",
    "ExecuteTime": {
     "end_time": "2024-03-30T14:09:57.008978Z",
     "start_time": "2024-03-30T14:09:56.976386Z"
    }
   },
   "execution_count": 76,
   "outputs": [
    {
     "name": "stdout",
     "output_type": "stream",
     "text": [
      "id\n",
      "timestamp\n",
      "product_type\n",
      "sub_area\n"
     ]
    }
   ]
  },
  {
   "cell_type": "code",
   "source": [
    "# создание экземпляра класса\n",
    "fs = FeatureSelector(data = df_train_numeric, labels = df_train_numeric.columns)"
   ],
   "metadata": {
    "id": "-6uayy-hpx48",
    "ExecuteTime": {
     "end_time": "2024-03-30T14:09:57.014638Z",
     "start_time": "2024-03-30T14:09:57.009984Z"
    }
   },
   "execution_count": 77,
   "outputs": []
  },
  {
   "cell_type": "code",
   "source": [
    "# находим коллинеарные признаки\n",
    "fs.identify_collinear(correlation_threshold = 0.975)"
   ],
   "metadata": {
    "id": "8H4_KtnDJgFO",
    "ExecuteTime": {
     "end_time": "2024-03-30T14:09:58.557348Z",
     "start_time": "2024-03-30T14:09:57.015643Z"
    }
   },
   "execution_count": 78,
   "outputs": [
    {
     "name": "stdout",
     "output_type": "stream",
     "text": [
      "71 features with a correlation magnitude greater than 0.97.\n"
     ]
    },
    {
     "name": "stderr",
     "output_type": "stream",
     "text": [
      "C:\\Users\\Nikita Kazunin\\AppData\\Local\\Temp\\ipykernel_19988\\783241795.py:223: FutureWarning: The frame.append method is deprecated and will be removed from pandas in a future version. Use pandas.concat instead.\n",
      "  record_collinear = record_collinear.append(temp_df, ignore_index = True)\n",
      "C:\\Users\\Nikita Kazunin\\AppData\\Local\\Temp\\ipykernel_19988\\783241795.py:223: FutureWarning: The frame.append method is deprecated and will be removed from pandas in a future version. Use pandas.concat instead.\n",
      "  record_collinear = record_collinear.append(temp_df, ignore_index = True)\n",
      "C:\\Users\\Nikita Kazunin\\AppData\\Local\\Temp\\ipykernel_19988\\783241795.py:223: FutureWarning: The frame.append method is deprecated and will be removed from pandas in a future version. Use pandas.concat instead.\n",
      "  record_collinear = record_collinear.append(temp_df, ignore_index = True)\n",
      "C:\\Users\\Nikita Kazunin\\AppData\\Local\\Temp\\ipykernel_19988\\783241795.py:223: FutureWarning: The frame.append method is deprecated and will be removed from pandas in a future version. Use pandas.concat instead.\n",
      "  record_collinear = record_collinear.append(temp_df, ignore_index = True)\n",
      "C:\\Users\\Nikita Kazunin\\AppData\\Local\\Temp\\ipykernel_19988\\783241795.py:223: FutureWarning: The frame.append method is deprecated and will be removed from pandas in a future version. Use pandas.concat instead.\n",
      "  record_collinear = record_collinear.append(temp_df, ignore_index = True)\n",
      "C:\\Users\\Nikita Kazunin\\AppData\\Local\\Temp\\ipykernel_19988\\783241795.py:223: FutureWarning: The frame.append method is deprecated and will be removed from pandas in a future version. Use pandas.concat instead.\n",
      "  record_collinear = record_collinear.append(temp_df, ignore_index = True)\n",
      "C:\\Users\\Nikita Kazunin\\AppData\\Local\\Temp\\ipykernel_19988\\783241795.py:223: FutureWarning: The frame.append method is deprecated and will be removed from pandas in a future version. Use pandas.concat instead.\n",
      "  record_collinear = record_collinear.append(temp_df, ignore_index = True)\n",
      "C:\\Users\\Nikita Kazunin\\AppData\\Local\\Temp\\ipykernel_19988\\783241795.py:223: FutureWarning: The frame.append method is deprecated and will be removed from pandas in a future version. Use pandas.concat instead.\n",
      "  record_collinear = record_collinear.append(temp_df, ignore_index = True)\n",
      "C:\\Users\\Nikita Kazunin\\AppData\\Local\\Temp\\ipykernel_19988\\783241795.py:223: FutureWarning: The frame.append method is deprecated and will be removed from pandas in a future version. Use pandas.concat instead.\n",
      "  record_collinear = record_collinear.append(temp_df, ignore_index = True)\n",
      "C:\\Users\\Nikita Kazunin\\AppData\\Local\\Temp\\ipykernel_19988\\783241795.py:223: FutureWarning: The frame.append method is deprecated and will be removed from pandas in a future version. Use pandas.concat instead.\n",
      "  record_collinear = record_collinear.append(temp_df, ignore_index = True)\n",
      "C:\\Users\\Nikita Kazunin\\AppData\\Local\\Temp\\ipykernel_19988\\783241795.py:223: FutureWarning: The frame.append method is deprecated and will be removed from pandas in a future version. Use pandas.concat instead.\n",
      "  record_collinear = record_collinear.append(temp_df, ignore_index = True)\n",
      "C:\\Users\\Nikita Kazunin\\AppData\\Local\\Temp\\ipykernel_19988\\783241795.py:223: FutureWarning: The frame.append method is deprecated and will be removed from pandas in a future version. Use pandas.concat instead.\n",
      "  record_collinear = record_collinear.append(temp_df, ignore_index = True)\n",
      "C:\\Users\\Nikita Kazunin\\AppData\\Local\\Temp\\ipykernel_19988\\783241795.py:223: FutureWarning: The frame.append method is deprecated and will be removed from pandas in a future version. Use pandas.concat instead.\n",
      "  record_collinear = record_collinear.append(temp_df, ignore_index = True)\n",
      "C:\\Users\\Nikita Kazunin\\AppData\\Local\\Temp\\ipykernel_19988\\783241795.py:223: FutureWarning: The frame.append method is deprecated and will be removed from pandas in a future version. Use pandas.concat instead.\n",
      "  record_collinear = record_collinear.append(temp_df, ignore_index = True)\n",
      "C:\\Users\\Nikita Kazunin\\AppData\\Local\\Temp\\ipykernel_19988\\783241795.py:223: FutureWarning: The frame.append method is deprecated and will be removed from pandas in a future version. Use pandas.concat instead.\n",
      "  record_collinear = record_collinear.append(temp_df, ignore_index = True)\n",
      "C:\\Users\\Nikita Kazunin\\AppData\\Local\\Temp\\ipykernel_19988\\783241795.py:223: FutureWarning: The frame.append method is deprecated and will be removed from pandas in a future version. Use pandas.concat instead.\n",
      "  record_collinear = record_collinear.append(temp_df, ignore_index = True)\n",
      "C:\\Users\\Nikita Kazunin\\AppData\\Local\\Temp\\ipykernel_19988\\783241795.py:223: FutureWarning: The frame.append method is deprecated and will be removed from pandas in a future version. Use pandas.concat instead.\n",
      "  record_collinear = record_collinear.append(temp_df, ignore_index = True)\n",
      "C:\\Users\\Nikita Kazunin\\AppData\\Local\\Temp\\ipykernel_19988\\783241795.py:223: FutureWarning: The frame.append method is deprecated and will be removed from pandas in a future version. Use pandas.concat instead.\n",
      "  record_collinear = record_collinear.append(temp_df, ignore_index = True)\n",
      "C:\\Users\\Nikita Kazunin\\AppData\\Local\\Temp\\ipykernel_19988\\783241795.py:223: FutureWarning: The frame.append method is deprecated and will be removed from pandas in a future version. Use pandas.concat instead.\n",
      "  record_collinear = record_collinear.append(temp_df, ignore_index = True)\n",
      "C:\\Users\\Nikita Kazunin\\AppData\\Local\\Temp\\ipykernel_19988\\783241795.py:223: FutureWarning: The frame.append method is deprecated and will be removed from pandas in a future version. Use pandas.concat instead.\n",
      "  record_collinear = record_collinear.append(temp_df, ignore_index = True)\n",
      "C:\\Users\\Nikita Kazunin\\AppData\\Local\\Temp\\ipykernel_19988\\783241795.py:223: FutureWarning: The frame.append method is deprecated and will be removed from pandas in a future version. Use pandas.concat instead.\n",
      "  record_collinear = record_collinear.append(temp_df, ignore_index = True)\n",
      "C:\\Users\\Nikita Kazunin\\AppData\\Local\\Temp\\ipykernel_19988\\783241795.py:223: FutureWarning: The frame.append method is deprecated and will be removed from pandas in a future version. Use pandas.concat instead.\n",
      "  record_collinear = record_collinear.append(temp_df, ignore_index = True)\n",
      "C:\\Users\\Nikita Kazunin\\AppData\\Local\\Temp\\ipykernel_19988\\783241795.py:223: FutureWarning: The frame.append method is deprecated and will be removed from pandas in a future version. Use pandas.concat instead.\n",
      "  record_collinear = record_collinear.append(temp_df, ignore_index = True)\n",
      "C:\\Users\\Nikita Kazunin\\AppData\\Local\\Temp\\ipykernel_19988\\783241795.py:223: FutureWarning: The frame.append method is deprecated and will be removed from pandas in a future version. Use pandas.concat instead.\n",
      "  record_collinear = record_collinear.append(temp_df, ignore_index = True)\n",
      "C:\\Users\\Nikita Kazunin\\AppData\\Local\\Temp\\ipykernel_19988\\783241795.py:223: FutureWarning: The frame.append method is deprecated and will be removed from pandas in a future version. Use pandas.concat instead.\n",
      "  record_collinear = record_collinear.append(temp_df, ignore_index = True)\n",
      "C:\\Users\\Nikita Kazunin\\AppData\\Local\\Temp\\ipykernel_19988\\783241795.py:223: FutureWarning: The frame.append method is deprecated and will be removed from pandas in a future version. Use pandas.concat instead.\n",
      "  record_collinear = record_collinear.append(temp_df, ignore_index = True)\n",
      "C:\\Users\\Nikita Kazunin\\AppData\\Local\\Temp\\ipykernel_19988\\783241795.py:223: FutureWarning: The frame.append method is deprecated and will be removed from pandas in a future version. Use pandas.concat instead.\n",
      "  record_collinear = record_collinear.append(temp_df, ignore_index = True)\n",
      "C:\\Users\\Nikita Kazunin\\AppData\\Local\\Temp\\ipykernel_19988\\783241795.py:223: FutureWarning: The frame.append method is deprecated and will be removed from pandas in a future version. Use pandas.concat instead.\n",
      "  record_collinear = record_collinear.append(temp_df, ignore_index = True)\n",
      "C:\\Users\\Nikita Kazunin\\AppData\\Local\\Temp\\ipykernel_19988\\783241795.py:223: FutureWarning: The frame.append method is deprecated and will be removed from pandas in a future version. Use pandas.concat instead.\n",
      "  record_collinear = record_collinear.append(temp_df, ignore_index = True)\n",
      "C:\\Users\\Nikita Kazunin\\AppData\\Local\\Temp\\ipykernel_19988\\783241795.py:223: FutureWarning: The frame.append method is deprecated and will be removed from pandas in a future version. Use pandas.concat instead.\n",
      "  record_collinear = record_collinear.append(temp_df, ignore_index = True)\n",
      "C:\\Users\\Nikita Kazunin\\AppData\\Local\\Temp\\ipykernel_19988\\783241795.py:223: FutureWarning: The frame.append method is deprecated and will be removed from pandas in a future version. Use pandas.concat instead.\n",
      "  record_collinear = record_collinear.append(temp_df, ignore_index = True)\n",
      "C:\\Users\\Nikita Kazunin\\AppData\\Local\\Temp\\ipykernel_19988\\783241795.py:223: FutureWarning: The frame.append method is deprecated and will be removed from pandas in a future version. Use pandas.concat instead.\n",
      "  record_collinear = record_collinear.append(temp_df, ignore_index = True)\n",
      "C:\\Users\\Nikita Kazunin\\AppData\\Local\\Temp\\ipykernel_19988\\783241795.py:223: FutureWarning: The frame.append method is deprecated and will be removed from pandas in a future version. Use pandas.concat instead.\n",
      "  record_collinear = record_collinear.append(temp_df, ignore_index = True)\n",
      "C:\\Users\\Nikita Kazunin\\AppData\\Local\\Temp\\ipykernel_19988\\783241795.py:223: FutureWarning: The frame.append method is deprecated and will be removed from pandas in a future version. Use pandas.concat instead.\n",
      "  record_collinear = record_collinear.append(temp_df, ignore_index = True)\n",
      "C:\\Users\\Nikita Kazunin\\AppData\\Local\\Temp\\ipykernel_19988\\783241795.py:223: FutureWarning: The frame.append method is deprecated and will be removed from pandas in a future version. Use pandas.concat instead.\n",
      "  record_collinear = record_collinear.append(temp_df, ignore_index = True)\n",
      "C:\\Users\\Nikita Kazunin\\AppData\\Local\\Temp\\ipykernel_19988\\783241795.py:223: FutureWarning: The frame.append method is deprecated and will be removed from pandas in a future version. Use pandas.concat instead.\n",
      "  record_collinear = record_collinear.append(temp_df, ignore_index = True)\n",
      "C:\\Users\\Nikita Kazunin\\AppData\\Local\\Temp\\ipykernel_19988\\783241795.py:223: FutureWarning: The frame.append method is deprecated and will be removed from pandas in a future version. Use pandas.concat instead.\n",
      "  record_collinear = record_collinear.append(temp_df, ignore_index = True)\n",
      "C:\\Users\\Nikita Kazunin\\AppData\\Local\\Temp\\ipykernel_19988\\783241795.py:223: FutureWarning: The frame.append method is deprecated and will be removed from pandas in a future version. Use pandas.concat instead.\n",
      "  record_collinear = record_collinear.append(temp_df, ignore_index = True)\n",
      "C:\\Users\\Nikita Kazunin\\AppData\\Local\\Temp\\ipykernel_19988\\783241795.py:223: FutureWarning: The frame.append method is deprecated and will be removed from pandas in a future version. Use pandas.concat instead.\n",
      "  record_collinear = record_collinear.append(temp_df, ignore_index = True)\n",
      "C:\\Users\\Nikita Kazunin\\AppData\\Local\\Temp\\ipykernel_19988\\783241795.py:223: FutureWarning: The frame.append method is deprecated and will be removed from pandas in a future version. Use pandas.concat instead.\n",
      "  record_collinear = record_collinear.append(temp_df, ignore_index = True)\n",
      "C:\\Users\\Nikita Kazunin\\AppData\\Local\\Temp\\ipykernel_19988\\783241795.py:223: FutureWarning: The frame.append method is deprecated and will be removed from pandas in a future version. Use pandas.concat instead.\n",
      "  record_collinear = record_collinear.append(temp_df, ignore_index = True)\n",
      "C:\\Users\\Nikita Kazunin\\AppData\\Local\\Temp\\ipykernel_19988\\783241795.py:223: FutureWarning: The frame.append method is deprecated and will be removed from pandas in a future version. Use pandas.concat instead.\n",
      "  record_collinear = record_collinear.append(temp_df, ignore_index = True)\n",
      "C:\\Users\\Nikita Kazunin\\AppData\\Local\\Temp\\ipykernel_19988\\783241795.py:223: FutureWarning: The frame.append method is deprecated and will be removed from pandas in a future version. Use pandas.concat instead.\n",
      "  record_collinear = record_collinear.append(temp_df, ignore_index = True)\n",
      "C:\\Users\\Nikita Kazunin\\AppData\\Local\\Temp\\ipykernel_19988\\783241795.py:223: FutureWarning: The frame.append method is deprecated and will be removed from pandas in a future version. Use pandas.concat instead.\n",
      "  record_collinear = record_collinear.append(temp_df, ignore_index = True)\n",
      "C:\\Users\\Nikita Kazunin\\AppData\\Local\\Temp\\ipykernel_19988\\783241795.py:223: FutureWarning: The frame.append method is deprecated and will be removed from pandas in a future version. Use pandas.concat instead.\n",
      "  record_collinear = record_collinear.append(temp_df, ignore_index = True)\n",
      "C:\\Users\\Nikita Kazunin\\AppData\\Local\\Temp\\ipykernel_19988\\783241795.py:223: FutureWarning: The frame.append method is deprecated and will be removed from pandas in a future version. Use pandas.concat instead.\n",
      "  record_collinear = record_collinear.append(temp_df, ignore_index = True)\n",
      "C:\\Users\\Nikita Kazunin\\AppData\\Local\\Temp\\ipykernel_19988\\783241795.py:223: FutureWarning: The frame.append method is deprecated and will be removed from pandas in a future version. Use pandas.concat instead.\n",
      "  record_collinear = record_collinear.append(temp_df, ignore_index = True)\n",
      "C:\\Users\\Nikita Kazunin\\AppData\\Local\\Temp\\ipykernel_19988\\783241795.py:223: FutureWarning: The frame.append method is deprecated and will be removed from pandas in a future version. Use pandas.concat instead.\n",
      "  record_collinear = record_collinear.append(temp_df, ignore_index = True)\n",
      "C:\\Users\\Nikita Kazunin\\AppData\\Local\\Temp\\ipykernel_19988\\783241795.py:223: FutureWarning: The frame.append method is deprecated and will be removed from pandas in a future version. Use pandas.concat instead.\n",
      "  record_collinear = record_collinear.append(temp_df, ignore_index = True)\n",
      "C:\\Users\\Nikita Kazunin\\AppData\\Local\\Temp\\ipykernel_19988\\783241795.py:223: FutureWarning: The frame.append method is deprecated and will be removed from pandas in a future version. Use pandas.concat instead.\n",
      "  record_collinear = record_collinear.append(temp_df, ignore_index = True)\n",
      "C:\\Users\\Nikita Kazunin\\AppData\\Local\\Temp\\ipykernel_19988\\783241795.py:223: FutureWarning: The frame.append method is deprecated and will be removed from pandas in a future version. Use pandas.concat instead.\n",
      "  record_collinear = record_collinear.append(temp_df, ignore_index = True)\n",
      "C:\\Users\\Nikita Kazunin\\AppData\\Local\\Temp\\ipykernel_19988\\783241795.py:223: FutureWarning: The frame.append method is deprecated and will be removed from pandas in a future version. Use pandas.concat instead.\n",
      "  record_collinear = record_collinear.append(temp_df, ignore_index = True)\n",
      "C:\\Users\\Nikita Kazunin\\AppData\\Local\\Temp\\ipykernel_19988\\783241795.py:223: FutureWarning: The frame.append method is deprecated and will be removed from pandas in a future version. Use pandas.concat instead.\n",
      "  record_collinear = record_collinear.append(temp_df, ignore_index = True)\n",
      "C:\\Users\\Nikita Kazunin\\AppData\\Local\\Temp\\ipykernel_19988\\783241795.py:223: FutureWarning: The frame.append method is deprecated and will be removed from pandas in a future version. Use pandas.concat instead.\n",
      "  record_collinear = record_collinear.append(temp_df, ignore_index = True)\n",
      "C:\\Users\\Nikita Kazunin\\AppData\\Local\\Temp\\ipykernel_19988\\783241795.py:223: FutureWarning: The frame.append method is deprecated and will be removed from pandas in a future version. Use pandas.concat instead.\n",
      "  record_collinear = record_collinear.append(temp_df, ignore_index = True)\n",
      "C:\\Users\\Nikita Kazunin\\AppData\\Local\\Temp\\ipykernel_19988\\783241795.py:223: FutureWarning: The frame.append method is deprecated and will be removed from pandas in a future version. Use pandas.concat instead.\n",
      "  record_collinear = record_collinear.append(temp_df, ignore_index = True)\n",
      "C:\\Users\\Nikita Kazunin\\AppData\\Local\\Temp\\ipykernel_19988\\783241795.py:223: FutureWarning: The frame.append method is deprecated and will be removed from pandas in a future version. Use pandas.concat instead.\n",
      "  record_collinear = record_collinear.append(temp_df, ignore_index = True)\n",
      "C:\\Users\\Nikita Kazunin\\AppData\\Local\\Temp\\ipykernel_19988\\783241795.py:223: FutureWarning: The frame.append method is deprecated and will be removed from pandas in a future version. Use pandas.concat instead.\n",
      "  record_collinear = record_collinear.append(temp_df, ignore_index = True)\n",
      "C:\\Users\\Nikita Kazunin\\AppData\\Local\\Temp\\ipykernel_19988\\783241795.py:223: FutureWarning: The frame.append method is deprecated and will be removed from pandas in a future version. Use pandas.concat instead.\n",
      "  record_collinear = record_collinear.append(temp_df, ignore_index = True)\n",
      "C:\\Users\\Nikita Kazunin\\AppData\\Local\\Temp\\ipykernel_19988\\783241795.py:223: FutureWarning: The frame.append method is deprecated and will be removed from pandas in a future version. Use pandas.concat instead.\n",
      "  record_collinear = record_collinear.append(temp_df, ignore_index = True)\n",
      "C:\\Users\\Nikita Kazunin\\AppData\\Local\\Temp\\ipykernel_19988\\783241795.py:223: FutureWarning: The frame.append method is deprecated and will be removed from pandas in a future version. Use pandas.concat instead.\n",
      "  record_collinear = record_collinear.append(temp_df, ignore_index = True)\n",
      "C:\\Users\\Nikita Kazunin\\AppData\\Local\\Temp\\ipykernel_19988\\783241795.py:223: FutureWarning: The frame.append method is deprecated and will be removed from pandas in a future version. Use pandas.concat instead.\n",
      "  record_collinear = record_collinear.append(temp_df, ignore_index = True)\n",
      "C:\\Users\\Nikita Kazunin\\AppData\\Local\\Temp\\ipykernel_19988\\783241795.py:223: FutureWarning: The frame.append method is deprecated and will be removed from pandas in a future version. Use pandas.concat instead.\n",
      "  record_collinear = record_collinear.append(temp_df, ignore_index = True)\n",
      "C:\\Users\\Nikita Kazunin\\AppData\\Local\\Temp\\ipykernel_19988\\783241795.py:223: FutureWarning: The frame.append method is deprecated and will be removed from pandas in a future version. Use pandas.concat instead.\n",
      "  record_collinear = record_collinear.append(temp_df, ignore_index = True)\n",
      "C:\\Users\\Nikita Kazunin\\AppData\\Local\\Temp\\ipykernel_19988\\783241795.py:223: FutureWarning: The frame.append method is deprecated and will be removed from pandas in a future version. Use pandas.concat instead.\n",
      "  record_collinear = record_collinear.append(temp_df, ignore_index = True)\n",
      "C:\\Users\\Nikita Kazunin\\AppData\\Local\\Temp\\ipykernel_19988\\783241795.py:223: FutureWarning: The frame.append method is deprecated and will be removed from pandas in a future version. Use pandas.concat instead.\n",
      "  record_collinear = record_collinear.append(temp_df, ignore_index = True)\n",
      "C:\\Users\\Nikita Kazunin\\AppData\\Local\\Temp\\ipykernel_19988\\783241795.py:223: FutureWarning: The frame.append method is deprecated and will be removed from pandas in a future version. Use pandas.concat instead.\n",
      "  record_collinear = record_collinear.append(temp_df, ignore_index = True)\n",
      "C:\\Users\\Nikita Kazunin\\AppData\\Local\\Temp\\ipykernel_19988\\783241795.py:223: FutureWarning: The frame.append method is deprecated and will be removed from pandas in a future version. Use pandas.concat instead.\n",
      "  record_collinear = record_collinear.append(temp_df, ignore_index = True)\n",
      "C:\\Users\\Nikita Kazunin\\AppData\\Local\\Temp\\ipykernel_19988\\783241795.py:223: FutureWarning: The frame.append method is deprecated and will be removed from pandas in a future version. Use pandas.concat instead.\n",
      "  record_collinear = record_collinear.append(temp_df, ignore_index = True)\n",
      "C:\\Users\\Nikita Kazunin\\AppData\\Local\\Temp\\ipykernel_19988\\783241795.py:223: FutureWarning: The frame.append method is deprecated and will be removed from pandas in a future version. Use pandas.concat instead.\n",
      "  record_collinear = record_collinear.append(temp_df, ignore_index = True)\n",
      "C:\\Users\\Nikita Kazunin\\AppData\\Local\\Temp\\ipykernel_19988\\783241795.py:223: FutureWarning: The frame.append method is deprecated and will be removed from pandas in a future version. Use pandas.concat instead.\n",
      "  record_collinear = record_collinear.append(temp_df, ignore_index = True)\n"
     ]
    }
   ]
  },
  {
   "cell_type": "code",
   "source": [
    "# список признаков для удаления\n",
    "collinear_features = fs.ops['collinear']\n",
    "\n",
    "# датафрейм коллинеарных признаков\n",
    "fs.record_collinear.head()"
   ],
   "metadata": {
    "id": "tyXWLOw_NyC6",
    "ExecuteTime": {
     "end_time": "2024-03-30T14:09:58.563435Z",
     "start_time": "2024-03-30T14:09:58.558354Z"
    }
   },
   "execution_count": 79,
   "outputs": [
    {
     "data": {
      "text/plain": "      drop_feature        corr_feature  corr_value\n0  children_school  children_preschool    0.986011\n1           male_f            full_all    0.999797\n2         female_f            full_all    0.999856\n3         female_f              male_f    0.999312\n4        young_all  children_preschool    0.996060",
      "text/html": "<div>\n<style scoped>\n    .dataframe tbody tr th:only-of-type {\n        vertical-align: middle;\n    }\n\n    .dataframe tbody tr th {\n        vertical-align: top;\n    }\n\n    .dataframe thead th {\n        text-align: right;\n    }\n</style>\n<table border=\"1\" class=\"dataframe\">\n  <thead>\n    <tr style=\"text-align: right;\">\n      <th></th>\n      <th>drop_feature</th>\n      <th>corr_feature</th>\n      <th>corr_value</th>\n    </tr>\n  </thead>\n  <tbody>\n    <tr>\n      <th>0</th>\n      <td>children_school</td>\n      <td>children_preschool</td>\n      <td>0.986011</td>\n    </tr>\n    <tr>\n      <th>1</th>\n      <td>male_f</td>\n      <td>full_all</td>\n      <td>0.999797</td>\n    </tr>\n    <tr>\n      <th>2</th>\n      <td>female_f</td>\n      <td>full_all</td>\n      <td>0.999856</td>\n    </tr>\n    <tr>\n      <th>3</th>\n      <td>female_f</td>\n      <td>male_f</td>\n      <td>0.999312</td>\n    </tr>\n    <tr>\n      <th>4</th>\n      <td>young_all</td>\n      <td>children_preschool</td>\n      <td>0.996060</td>\n    </tr>\n  </tbody>\n</table>\n</div>"
     },
     "execution_count": 79,
     "metadata": {},
     "output_type": "execute_result"
    }
   ]
  },
  {
   "cell_type": "code",
   "source": [
    "# для визуализации можно построить тепловую карту\n",
    "fs.plot_collinear()"
   ],
   "metadata": {
    "id": "XIahfX5Dp_p8",
    "ExecuteTime": {
     "end_time": "2024-03-30T14:09:59.338920Z",
     "start_time": "2024-03-30T14:09:58.564440Z"
    }
   },
   "execution_count": 80,
   "outputs": [
    {
     "data": {
      "text/plain": "<Figure size 1000x800 with 2 Axes>",
      "image/png": "[encoded data removed]"
     },
     "metadata": {},
     "output_type": "display_data"
    }
   ]
  },
  {
   "cell_type": "markdown",
   "source": [
    "Эта штука ниже убирает ненужные фичи с нулевым влиянием. Но из-за того что в классе используется доисторические версии библиотек, она не работает."
   ],
   "metadata": {
    "id": "elTFW0nVSSLG"
   }
  },
  {
   "cell_type": "code",
   "source": [
    "# fs.identify_zero_importance(task = 'classification',\n",
    "#                             eval_metric = 'l2',\n",
    "#                             n_iterations = 10,\n",
    "#                              early_stopping = True)"
   ],
   "metadata": {
    "id": "p-Mkl17xRfxH",
    "ExecuteTime": {
     "end_time": "2024-03-30T14:09:59.342439Z",
     "start_time": "2024-03-30T14:09:59.339935Z"
    }
   },
   "execution_count": 81,
   "outputs": []
  },
  {
   "cell_type": "code",
   "source": [
    "# удаляем отобраные признаки\n",
    "train_removed = fs.remove(methods = [\"collinear\"])"
   ],
   "metadata": {
    "id": "pMBMDEnyKO3Q",
    "ExecuteTime": {
     "end_time": "2024-03-30T14:09:59.353981Z",
     "start_time": "2024-03-30T14:09:59.343955Z"
    }
   },
   "execution_count": 82,
   "outputs": [
    {
     "name": "stdout",
     "output_type": "stream",
     "text": [
      "Removed 71 features.\n"
     ]
    }
   ]
  },
  {
   "cell_type": "code",
   "source": [
    "# количество признаков уменьшилось на 71\n",
    "train_removed"
   ],
   "metadata": {
    "id": "E0OQSbHAMePG",
    "ExecuteTime": {
     "end_time": "2024-03-30T14:09:59.375809Z",
     "start_time": "2024-03-30T14:09:59.354987Z"
    }
   },
   "execution_count": 83,
   "outputs": [
    {
     "data": {
      "text/plain": "       full_sq  life_sq  floor  max_floor  material  build_year  num_room  \\\n8056        11     11.0    2.0        5.0       2.0      1907.0       1.0   \n8135        53     30.0   10.0       16.0       1.0      1980.0       2.0   \n8153        77     41.0    2.0       17.0       6.0      2014.0       3.0   \n8154        45     27.0    6.0        9.0       1.0      1970.0       2.0   \n8186        63     63.0   17.0       17.0       4.0      2013.0       2.0   \n...        ...      ...    ...        ...       ...         ...       ...   \n30464       56     51.0   19.0       19.0       1.0      2017.0       2.0   \n30466       44     27.0    7.0        9.0       1.0      1975.0       2.0   \n30467       86     59.0    3.0        9.0       2.0      1935.0       4.0   \n30469       64     32.0    5.0       15.0       1.0      2003.0       2.0   \n30470       43     28.0    1.0        9.0       1.0      1968.0       2.0   \n\n       kitch_sq  state        area_m  ...  northern  western  zelenograd  \\\n8056       12.0    3.0  1.007156e+07  ...       0.0      0.0         0.0   \n8135        8.0    3.0  5.646405e+06  ...       0.0      0.0         0.0   \n8153       12.0    1.0  2.149409e+07  ...       0.0      0.0         0.0   \n8154        6.0    3.0  8.889467e+06  ...       0.0      0.0         1.0   \n8186        1.0    1.0  1.139168e+07  ...       1.0      0.0         0.0   \n...         ...    ...           ...  ...       ...      ...         ...   \n30464       1.0    1.0  4.441296e+06  ...       0.0      0.0         0.0   \n30466       6.0    3.0  1.005305e+07  ...       0.0      0.0         0.0   \n30467      10.0    3.0  7.307411e+06  ...       0.0      0.0         0.0   \n30469      11.0    2.0  6.050065e+06  ...       0.0      0.0         1.0   \n30470       6.0    2.0  4.395333e+06  ...       0.0      0.0         0.0   \n\n       southwestern  novomoskovskiy  troitskiy  good  excellent  poor  \\\n8056            0.0             0.0        0.0   1.0        0.0   0.0   \n8135            0.0             0.0        0.0   0.0        0.0   1.0   \n8153            0.0             0.0        0.0   0.0        0.0   0.0   \n8154            0.0             0.0        0.0   0.0        1.0   0.0   \n8186            0.0             0.0        0.0   0.0        1.0   0.0   \n...             ...             ...        ...   ...        ...   ...   \n30464           0.0             0.0        0.0   0.0        0.0   1.0   \n30466           0.0             0.0        0.0   0.0        1.0   0.0   \n30467           0.0             0.0        0.0   0.0        0.0   1.0   \n30469           0.0             0.0        0.0   0.0        0.0   0.0   \n30470           0.0             0.0        0.0   0.0        0.0   1.0   \n\n       satisfactory  \n8056            0.0  \n8135            0.0  \n8153            1.0  \n8154            0.0  \n8186            0.0  \n...             ...  \n30464           0.0  \n30466           0.0  \n30467           0.0  \n30469           1.0  \n30470           0.0  \n\n[15266 rows x 192 columns]",
      "text/html": "<div>\n<style scoped>\n    .dataframe tbody tr th:only-of-type {\n        vertical-align: middle;\n    }\n\n    .dataframe tbody tr th {\n        vertical-align: top;\n    }\n\n    .dataframe thead th {\n        text-align: right;\n    }\n</style>\n<table border=\"1\" class=\"dataframe\">\n  <thead>\n    <tr style=\"text-align: right;\">\n      <th></th>\n      <th>full_sq</th>\n      <th>life_sq</th>\n      <th>floor</th>\n      <th>max_floor</th>\n      <th>material</th>\n      <th>build_year</th>\n      <th>num_room</th>\n      <th>kitch_sq</th>\n      <th>state</th>\n      <th>area_m</th>\n      <th>...</th>\n      <th>northern</th>\n      <th>western</th>\n      <th>zelenograd</th>\n      <th>southwestern</th>\n      <th>novomoskovskiy</th>\n      <th>troitskiy</th>\n      <th>good</th>\n      <th>excellent</th>\n      <th>poor</th>\n      <th>satisfactory</th>\n    </tr>\n  </thead>\n  <tbody>\n    <tr>\n      <th>8056</th>\n      <td>11</td>\n      <td>11.0</td>\n      <td>2.0</td>\n      <td>5.0</td>\n      <td>2.0</td>\n      <td>1907.0</td>\n      <td>1.0</td>\n      <td>12.0</td>\n      <td>3.0</td>\n      <td>1.007156e+07</td>\n      <td>...</td>\n      <td>0.0</td>\n      <td>0.0</td>\n      <td>0.0</td>\n      <td>0.0</td>\n      <td>0.0</td>\n      <td>0.0</td>\n      <td>1.0</td>\n      <td>0.0</td>\n      <td>0.0</td>\n      <td>0.0</td>\n    </tr>\n    <tr>\n      <th>8135</th>\n      <td>53</td>\n      <td>30.0</td>\n      <td>10.0</td>\n      <td>16.0</td>\n      <td>1.0</td>\n      <td>1980.0</td>\n      <td>2.0</td>\n      <td>8.0</td>\n      <td>3.0</td>\n      <td>5.646405e+06</td>\n      <td>...</td>\n      <td>0.0</td>\n      <td>0.0</td>\n      <td>0.0</td>\n      <td>0.0</td>\n      <td>0.0</td>\n      <td>0.0</td>\n      <td>0.0</td>\n      <td>0.0</td>\n      <td>1.0</td>\n      <td>0.0</td>\n    </tr>\n    <tr>\n      <th>8153</th>\n      <td>77</td>\n      <td>41.0</td>\n      <td>2.0</td>\n      <td>17.0</td>\n      <td>6.0</td>\n      <td>2014.0</td>\n      <td>3.0</td>\n      <td>12.0</td>\n      <td>1.0</td>\n      <td>2.149409e+07</td>\n      <td>...</td>\n      <td>0.0</td>\n      <td>0.0</td>\n      <td>0.0</td>\n      <td>0.0</td>\n      <td>0.0</td>\n      <td>0.0</td>\n      <td>0.0</td>\n      <td>0.0</td>\n      <td>0.0</td>\n      <td>1.0</td>\n    </tr>\n    <tr>\n      <th>8154</th>\n      <td>45</td>\n      <td>27.0</td>\n      <td>6.0</td>\n      <td>9.0</td>\n      <td>1.0</td>\n      <td>1970.0</td>\n      <td>2.0</td>\n      <td>6.0</td>\n      <td>3.0</td>\n      <td>8.889467e+06</td>\n      <td>...</td>\n      <td>0.0</td>\n      <td>0.0</td>\n      <td>1.0</td>\n      <td>0.0</td>\n      <td>0.0</td>\n      <td>0.0</td>\n      <td>0.0</td>\n      <td>1.0</td>\n      <td>0.0</td>\n      <td>0.0</td>\n    </tr>\n    <tr>\n      <th>8186</th>\n      <td>63</td>\n      <td>63.0</td>\n      <td>17.0</td>\n      <td>17.0</td>\n      <td>4.0</td>\n      <td>2013.0</td>\n      <td>2.0</td>\n      <td>1.0</td>\n      <td>1.0</td>\n      <td>1.139168e+07</td>\n      <td>...</td>\n      <td>1.0</td>\n      <td>0.0</td>\n      <td>0.0</td>\n      <td>0.0</td>\n      <td>0.0</td>\n      <td>0.0</td>\n      <td>0.0</td>\n      <td>1.0</td>\n      <td>0.0</td>\n      <td>0.0</td>\n    </tr>\n    <tr>\n      <th>...</th>\n      <td>...</td>\n      <td>...</td>\n      <td>...</td>\n      <td>...</td>\n      <td>...</td>\n      <td>...</td>\n      <td>...</td>\n      <td>...</td>\n      <td>...</td>\n      <td>...</td>\n      <td>...</td>\n      <td>...</td>\n      <td>...</td>\n      <td>...</td>\n      <td>...</td>\n      <td>...</td>\n      <td>...</td>\n      <td>...</td>\n      <td>...</td>\n      <td>...</td>\n      <td>...</td>\n    </tr>\n    <tr>\n      <th>30464</th>\n      <td>56</td>\n      <td>51.0</td>\n      <td>19.0</td>\n      <td>19.0</td>\n      <td>1.0</td>\n      <td>2017.0</td>\n      <td>2.0</td>\n      <td>1.0</td>\n      <td>1.0</td>\n      <td>4.441296e+06</td>\n      <td>...</td>\n      <td>0.0</td>\n      <td>0.0</td>\n      <td>0.0</td>\n      <td>0.0</td>\n      <td>0.0</td>\n      <td>0.0</td>\n      <td>0.0</td>\n      <td>0.0</td>\n      <td>1.0</td>\n      <td>0.0</td>\n    </tr>\n    <tr>\n      <th>30466</th>\n      <td>44</td>\n      <td>27.0</td>\n      <td>7.0</td>\n      <td>9.0</td>\n      <td>1.0</td>\n      <td>1975.0</td>\n      <td>2.0</td>\n      <td>6.0</td>\n      <td>3.0</td>\n      <td>1.005305e+07</td>\n      <td>...</td>\n      <td>0.0</td>\n      <td>0.0</td>\n      <td>0.0</td>\n      <td>0.0</td>\n      <td>0.0</td>\n      <td>0.0</td>\n      <td>0.0</td>\n      <td>1.0</td>\n      <td>0.0</td>\n      <td>0.0</td>\n    </tr>\n    <tr>\n      <th>30467</th>\n      <td>86</td>\n      <td>59.0</td>\n      <td>3.0</td>\n      <td>9.0</td>\n      <td>2.0</td>\n      <td>1935.0</td>\n      <td>4.0</td>\n      <td>10.0</td>\n      <td>3.0</td>\n      <td>7.307411e+06</td>\n      <td>...</td>\n      <td>0.0</td>\n      <td>0.0</td>\n      <td>0.0</td>\n      <td>0.0</td>\n      <td>0.0</td>\n      <td>0.0</td>\n      <td>0.0</td>\n      <td>0.0</td>\n      <td>1.0</td>\n      <td>0.0</td>\n    </tr>\n    <tr>\n      <th>30469</th>\n      <td>64</td>\n      <td>32.0</td>\n      <td>5.0</td>\n      <td>15.0</td>\n      <td>1.0</td>\n      <td>2003.0</td>\n      <td>2.0</td>\n      <td>11.0</td>\n      <td>2.0</td>\n      <td>6.050065e+06</td>\n      <td>...</td>\n      <td>0.0</td>\n      <td>0.0</td>\n      <td>1.0</td>\n      <td>0.0</td>\n      <td>0.0</td>\n      <td>0.0</td>\n      <td>0.0</td>\n      <td>0.0</td>\n      <td>0.0</td>\n      <td>1.0</td>\n    </tr>\n    <tr>\n      <th>30470</th>\n      <td>43</td>\n      <td>28.0</td>\n      <td>1.0</td>\n      <td>9.0</td>\n      <td>1.0</td>\n      <td>1968.0</td>\n      <td>2.0</td>\n      <td>6.0</td>\n      <td>2.0</td>\n      <td>4.395333e+06</td>\n      <td>...</td>\n      <td>0.0</td>\n      <td>0.0</td>\n      <td>0.0</td>\n      <td>0.0</td>\n      <td>0.0</td>\n      <td>0.0</td>\n      <td>0.0</td>\n      <td>0.0</td>\n      <td>1.0</td>\n      <td>0.0</td>\n    </tr>\n  </tbody>\n</table>\n<p>15266 rows × 192 columns</p>\n</div>"
     },
     "execution_count": 83,
     "metadata": {},
     "output_type": "execute_result"
    }
   ]
  },
  {
   "cell_type": "code",
   "source": [
    "train_removed.describe()"
   ],
   "metadata": {
    "id": "et9mCnRgc4KR",
    "ExecuteTime": {
     "end_time": "2024-03-30T14:09:59.618271Z",
     "start_time": "2024-03-30T14:09:59.376814Z"
    }
   },
   "execution_count": 84,
   "outputs": [
    {
     "data": {
      "text/plain": "            full_sq       life_sq         floor     max_floor      material  \\\ncount  15266.000000  15266.000000  15266.000000  15266.000000  15266.000000   \nmean      53.491091     35.154133      7.160291     12.403380      1.925193   \nstd       21.597899     63.647541      5.116621      6.194088      1.523881   \nmin        0.000000      0.000000      0.000000      0.000000      1.000000   \n25%       38.000000     20.000000      3.000000      9.000000      1.000000   \n50%       48.000000     30.000000      6.000000     12.000000      1.000000   \n75%       63.000000     43.000000     10.000000     17.000000      2.000000   \nmax      637.000000   7478.000000     77.000000     57.000000      6.000000   \n\n         build_year      num_room      kitch_sq         state        area_m  \\\ncount  1.526600e+04  15266.000000  15266.000000  15266.000000  1.526600e+04   \nmean   3.205912e+03      1.941832      7.486964      2.218787  1.437054e+07   \nstd    1.622765e+05      0.871064     28.780505      0.846381  1.738005e+07   \nmin    0.000000e+00      0.000000      0.000000      1.000000  2.081628e+06   \n25%    1.967000e+03      1.000000      5.000000      2.000000  6.377883e+06   \n50%    1.979000e+03      2.000000      7.000000      2.000000  9.282439e+06   \n75%    2.005000e+03      3.000000      9.000000      3.000000  1.488362e+07   \nmax    2.005201e+07     19.000000   2014.000000     33.000000  2.060718e+08   \n\n       ...      northern       western    zelenograd  southwestern  \\\ncount  ...  15266.000000  15266.000000  15266.000000  15266.000000   \nmean   ...      0.124132      0.127866      0.096554      0.013494   \nstd    ...      0.329743      0.333951      0.295360      0.115381   \nmin    ...      0.000000      0.000000      0.000000      0.000000   \n25%    ...      0.000000      0.000000      0.000000      0.000000   \n50%    ...      0.000000      0.000000      0.000000      0.000000   \n75%    ...      0.000000      0.000000      0.000000      0.000000   \nmax    ...      1.000000      1.000000      1.000000      1.000000   \n\n       novomoskovskiy     troitskiy          good     excellent          poor  \\\ncount    15266.000000  15266.000000  15266.000000  15266.000000  15266.000000   \nmean         0.076772      0.034128      0.149089      0.238962      0.322481   \nstd          0.266238      0.181564      0.356188      0.426464      0.467441   \nmin          0.000000      0.000000      0.000000      0.000000      0.000000   \n25%          0.000000      0.000000      0.000000      0.000000      0.000000   \n50%          0.000000      0.000000      0.000000      0.000000      0.000000   \n75%          0.000000      0.000000      0.000000      0.000000      1.000000   \nmax          1.000000      1.000000      1.000000      1.000000      1.000000   \n\n       satisfactory  \ncount  15266.000000  \nmean       0.289467  \nstd        0.453530  \nmin        0.000000  \n25%        0.000000  \n50%        0.000000  \n75%        1.000000  \nmax        1.000000  \n\n[8 rows x 192 columns]",
      "text/html": "<div>\n<style scoped>\n    .dataframe tbody tr th:only-of-type {\n        vertical-align: middle;\n    }\n\n    .dataframe tbody tr th {\n        vertical-align: top;\n    }\n\n    .dataframe thead th {\n        text-align: right;\n    }\n</style>\n<table border=\"1\" class=\"dataframe\">\n  <thead>\n    <tr style=\"text-align: right;\">\n      <th></th>\n      <th>full_sq</th>\n      <th>life_sq</th>\n      <th>floor</th>\n      <th>max_floor</th>\n      <th>material</th>\n      <th>build_year</th>\n      <th>num_room</th>\n      <th>kitch_sq</th>\n      <th>state</th>\n      <th>area_m</th>\n      <th>...</th>\n      <th>northern</th>\n      <th>western</th>\n      <th>zelenograd</th>\n      <th>southwestern</th>\n      <th>novomoskovskiy</th>\n      <th>troitskiy</th>\n      <th>good</th>\n      <th>excellent</th>\n      <th>poor</th>\n      <th>satisfactory</th>\n    </tr>\n  </thead>\n  <tbody>\n    <tr>\n      <th>count</th>\n      <td>15266.000000</td>\n      <td>15266.000000</td>\n      <td>15266.000000</td>\n      <td>15266.000000</td>\n      <td>15266.000000</td>\n      <td>1.526600e+04</td>\n      <td>15266.000000</td>\n      <td>15266.000000</td>\n      <td>15266.000000</td>\n      <td>1.526600e+04</td>\n      <td>...</td>\n      <td>15266.000000</td>\n      <td>15266.000000</td>\n      <td>15266.000000</td>\n      <td>15266.000000</td>\n      <td>15266.000000</td>\n      <td>15266.000000</td>\n      <td>15266.000000</td>\n      <td>15266.000000</td>\n      <td>15266.000000</td>\n      <td>15266.000000</td>\n    </tr>\n    <tr>\n      <th>mean</th>\n      <td>53.491091</td>\n      <td>35.154133</td>\n      <td>7.160291</td>\n      <td>12.403380</td>\n      <td>1.925193</td>\n      <td>3.205912e+03</td>\n      <td>1.941832</td>\n      <td>7.486964</td>\n      <td>2.218787</td>\n      <td>1.437054e+07</td>\n      <td>...</td>\n      <td>0.124132</td>\n      <td>0.127866</td>\n      <td>0.096554</td>\n      <td>0.013494</td>\n      <td>0.076772</td>\n      <td>0.034128</td>\n      <td>0.149089</td>\n      <td>0.238962</td>\n      <td>0.322481</td>\n      <td>0.289467</td>\n    </tr>\n    <tr>\n      <th>std</th>\n      <td>21.597899</td>\n      <td>63.647541</td>\n      <td>5.116621</td>\n      <td>6.194088</td>\n      <td>1.523881</td>\n      <td>1.622765e+05</td>\n      <td>0.871064</td>\n      <td>28.780505</td>\n      <td>0.846381</td>\n      <td>1.738005e+07</td>\n      <td>...</td>\n      <td>0.329743</td>\n      <td>0.333951</td>\n      <td>0.295360</td>\n      <td>0.115381</td>\n      <td>0.266238</td>\n      <td>0.181564</td>\n      <td>0.356188</td>\n      <td>0.426464</td>\n      <td>0.467441</td>\n      <td>0.453530</td>\n    </tr>\n    <tr>\n      <th>min</th>\n      <td>0.000000</td>\n      <td>0.000000</td>\n      <td>0.000000</td>\n      <td>0.000000</td>\n      <td>1.000000</td>\n      <td>0.000000e+00</td>\n      <td>0.000000</td>\n      <td>0.000000</td>\n      <td>1.000000</td>\n      <td>2.081628e+06</td>\n      <td>...</td>\n      <td>0.000000</td>\n      <td>0.000000</td>\n      <td>0.000000</td>\n      <td>0.000000</td>\n      <td>0.000000</td>\n      <td>0.000000</td>\n      <td>0.000000</td>\n      <td>0.000000</td>\n      <td>0.000000</td>\n      <td>0.000000</td>\n    </tr>\n    <tr>\n      <th>25%</th>\n      <td>38.000000</td>\n      <td>20.000000</td>\n      <td>3.000000</td>\n      <td>9.000000</td>\n      <td>1.000000</td>\n      <td>1.967000e+03</td>\n      <td>1.000000</td>\n      <td>5.000000</td>\n      <td>2.000000</td>\n      <td>6.377883e+06</td>\n      <td>...</td>\n      <td>0.000000</td>\n      <td>0.000000</td>\n      <td>0.000000</td>\n      <td>0.000000</td>\n      <td>0.000000</td>\n      <td>0.000000</td>\n      <td>0.000000</td>\n      <td>0.000000</td>\n      <td>0.000000</td>\n      <td>0.000000</td>\n    </tr>\n    <tr>\n      <th>50%</th>\n      <td>48.000000</td>\n      <td>30.000000</td>\n      <td>6.000000</td>\n      <td>12.000000</td>\n      <td>1.000000</td>\n      <td>1.979000e+03</td>\n      <td>2.000000</td>\n      <td>7.000000</td>\n      <td>2.000000</td>\n      <td>9.282439e+06</td>\n      <td>...</td>\n      <td>0.000000</td>\n      <td>0.000000</td>\n      <td>0.000000</td>\n      <td>0.000000</td>\n      <td>0.000000</td>\n      <td>0.000000</td>\n      <td>0.000000</td>\n      <td>0.000000</td>\n      <td>0.000000</td>\n      <td>0.000000</td>\n    </tr>\n    <tr>\n      <th>75%</th>\n      <td>63.000000</td>\n      <td>43.000000</td>\n      <td>10.000000</td>\n      <td>17.000000</td>\n      <td>2.000000</td>\n      <td>2.005000e+03</td>\n      <td>3.000000</td>\n      <td>9.000000</td>\n      <td>3.000000</td>\n      <td>1.488362e+07</td>\n      <td>...</td>\n      <td>0.000000</td>\n      <td>0.000000</td>\n      <td>0.000000</td>\n      <td>0.000000</td>\n      <td>0.000000</td>\n      <td>0.000000</td>\n      <td>0.000000</td>\n      <td>0.000000</td>\n      <td>1.000000</td>\n      <td>1.000000</td>\n    </tr>\n    <tr>\n      <th>max</th>\n      <td>637.000000</td>\n      <td>7478.000000</td>\n      <td>77.000000</td>\n      <td>57.000000</td>\n      <td>6.000000</td>\n      <td>2.005201e+07</td>\n      <td>19.000000</td>\n      <td>2014.000000</td>\n      <td>33.000000</td>\n      <td>2.060718e+08</td>\n      <td>...</td>\n      <td>1.000000</td>\n      <td>1.000000</td>\n      <td>1.000000</td>\n      <td>1.000000</td>\n      <td>1.000000</td>\n      <td>1.000000</td>\n      <td>1.000000</td>\n      <td>1.000000</td>\n      <td>1.000000</td>\n      <td>1.000000</td>\n    </tr>\n  </tbody>\n</table>\n<p>8 rows × 192 columns</p>\n</div>"
     },
     "execution_count": 84,
     "metadata": {},
     "output_type": "execute_result"
    }
   ]
  },
  {
   "cell_type": "markdown",
   "source": [
    "## Выявление и обработка выбросов"
   ],
   "metadata": {
    "id": "l6SFvBo2jhGi"
   }
  },
  {
   "cell_type": "markdown",
   "source": [
    "https://www.dmitrymakarov.ru/data-analysis/outliers-09/"
   ],
   "metadata": {
    "id": "04f2F5NbEfzG"
   }
  },
  {
   "cell_type": "markdown",
   "source": [
    "Тут я продолжаю работать с изменёной датой, 3 удаленные колонки уже были обработаны выше при помощи onehot_encode"
   ],
   "metadata": {
    "id": "Q1m9KWeDWkuO"
   }
  },
  {
   "cell_type": "markdown",
   "source": [
    "### Делал я всё по этой статье https://design-hero.ru/articles/177950/:\n",
    "#### Замена резко отклоняющихся значений подходящим значением\n",
    "\n",
    "##### Использование IQR"
   ],
   "metadata": {
    "id": "gf01yfMSXquv"
   }
  },
  {
   "cell_type": "code",
   "source": [
    "df_train_replace = train_removed.copy()\n",
    "\n",
    "# заменяем во всех колонках выбросы и вычисляем нижний и верхний предел,\n",
    "# а затем просто отбрасываем все значения, которые меньше или выше предела,\n",
    "# и заменяем их соответственно нижним и верхним пределом.\n",
    "col = df_train_replace.columns\n",
    "for el in col:\n",
    "  Q1 = df_train_replace[el].quantile(0.25)\n",
    "  Q3 = df_train_replace[el].quantile(0.75)\n",
    "  IQR = Q3-Q1\n",
    "  lower_limit = Q1 - 1.5*IQR\n",
    "  upper_limit = Q3 + 1.5*IQR\n",
    "  df_train_replace[el] = np.where(df_train_replace[el]>upper_limit,upper_limit,df_train_replace[el])\n",
    "  df_train_replace[el] = np.where(df_train_replace[el]<lower_limit,lower_limit,df_train_replace[el])"
   ],
   "metadata": {
    "id": "cSkUE0AGWaYq",
    "ExecuteTime": {
     "end_time": "2024-03-30T14:10:00.145451Z",
     "start_time": "2024-03-30T14:09:59.619219Z"
    }
   },
   "execution_count": 85,
   "outputs": []
  },
  {
   "cell_type": "code",
   "source": [
    "df_train_replace.describe()"
   ],
   "metadata": {
    "id": "lil11p0lXYmY",
    "ExecuteTime": {
     "end_time": "2024-03-30T14:10:00.430910Z",
     "start_time": "2024-03-30T14:10:00.146456Z"
    }
   },
   "execution_count": 86,
   "outputs": [
    {
     "data": {
      "text/plain": "            full_sq       life_sq         floor     max_floor      material  \\\ncount  15266.000000  15266.000000  15266.000000  15266.000000  15266.000000   \nmean      52.720916     33.875540      7.096391     12.356216      1.659407   \nstd       18.190834     16.418563      4.886178      6.018973      0.976462   \nmin        0.500000      0.000000      0.000000      0.000000      1.000000   \n25%       38.000000     20.000000      3.000000      9.000000      1.000000   \n50%       48.000000     30.000000      6.000000     12.000000      1.000000   \n75%       63.000000     43.000000     10.000000     17.000000      2.000000   \nmax      100.500000     77.500000     20.500000     29.000000      3.500000   \n\n         build_year      num_room      kitch_sq         state        area_m  \\\ncount  15266.000000  15266.000000  15266.000000  15266.000000  1.526600e+04   \nmean    1981.788353      1.939080      6.861260      2.216920  1.162027e+07   \nstd       25.813559      0.844913      3.351219      0.809092  7.166374e+06   \nmin     1910.000000      0.000000      0.000000      1.000000  2.081628e+06   \n25%     1967.000000      1.000000      5.000000      2.000000  6.377883e+06   \n50%     1979.000000      2.000000      7.000000      2.000000  9.282439e+06   \n75%     2005.000000      3.000000      9.000000      3.000000  1.488362e+07   \nmax     2062.000000      6.000000     15.000000      4.500000  2.764223e+07   \n\n       ...  northern  western  zelenograd  southwestern  novomoskovskiy  \\\ncount  ...   15266.0  15266.0     15266.0       15266.0         15266.0   \nmean   ...       0.0      0.0         0.0           0.0             0.0   \nstd    ...       0.0      0.0         0.0           0.0             0.0   \nmin    ...       0.0      0.0         0.0           0.0             0.0   \n25%    ...       0.0      0.0         0.0           0.0             0.0   \n50%    ...       0.0      0.0         0.0           0.0             0.0   \n75%    ...       0.0      0.0         0.0           0.0             0.0   \nmax    ...       0.0      0.0         0.0           0.0             0.0   \n\n       troitskiy     good  excellent          poor  satisfactory  \ncount    15266.0  15266.0    15266.0  15266.000000  15266.000000  \nmean         0.0      0.0        0.0      0.322481      0.289467  \nstd          0.0      0.0        0.0      0.467441      0.453530  \nmin          0.0      0.0        0.0      0.000000      0.000000  \n25%          0.0      0.0        0.0      0.000000      0.000000  \n50%          0.0      0.0        0.0      0.000000      0.000000  \n75%          0.0      0.0        0.0      1.000000      1.000000  \nmax          0.0      0.0        0.0      1.000000      1.000000  \n\n[8 rows x 192 columns]",
      "text/html": "<div>\n<style scoped>\n    .dataframe tbody tr th:only-of-type {\n        vertical-align: middle;\n    }\n\n    .dataframe tbody tr th {\n        vertical-align: top;\n    }\n\n    .dataframe thead th {\n        text-align: right;\n    }\n</style>\n<table border=\"1\" class=\"dataframe\">\n  <thead>\n    <tr style=\"text-align: right;\">\n      <th></th>\n      <th>full_sq</th>\n      <th>life_sq</th>\n      <th>floor</th>\n      <th>max_floor</th>\n      <th>material</th>\n      <th>build_year</th>\n      <th>num_room</th>\n      <th>kitch_sq</th>\n      <th>state</th>\n      <th>area_m</th>\n      <th>...</th>\n      <th>northern</th>\n      <th>western</th>\n      <th>zelenograd</th>\n      <th>southwestern</th>\n      <th>novomoskovskiy</th>\n      <th>troitskiy</th>\n      <th>good</th>\n      <th>excellent</th>\n      <th>poor</th>\n      <th>satisfactory</th>\n    </tr>\n  </thead>\n  <tbody>\n    <tr>\n      <th>count</th>\n      <td>15266.000000</td>\n      <td>15266.000000</td>\n      <td>15266.000000</td>\n      <td>15266.000000</td>\n      <td>15266.000000</td>\n      <td>15266.000000</td>\n      <td>15266.000000</td>\n      <td>15266.000000</td>\n      <td>15266.000000</td>\n      <td>1.526600e+04</td>\n      <td>...</td>\n      <td>15266.0</td>\n      <td>15266.0</td>\n      <td>15266.0</td>\n      <td>15266.0</td>\n      <td>15266.0</td>\n      <td>15266.0</td>\n      <td>15266.0</td>\n      <td>15266.0</td>\n      <td>15266.000000</td>\n      <td>15266.000000</td>\n    </tr>\n    <tr>\n      <th>mean</th>\n      <td>52.720916</td>\n      <td>33.875540</td>\n      <td>7.096391</td>\n      <td>12.356216</td>\n      <td>1.659407</td>\n      <td>1981.788353</td>\n      <td>1.939080</td>\n      <td>6.861260</td>\n      <td>2.216920</td>\n      <td>1.162027e+07</td>\n      <td>...</td>\n      <td>0.0</td>\n      <td>0.0</td>\n      <td>0.0</td>\n      <td>0.0</td>\n      <td>0.0</td>\n      <td>0.0</td>\n      <td>0.0</td>\n      <td>0.0</td>\n      <td>0.322481</td>\n      <td>0.289467</td>\n    </tr>\n    <tr>\n      <th>std</th>\n      <td>18.190834</td>\n      <td>16.418563</td>\n      <td>4.886178</td>\n      <td>6.018973</td>\n      <td>0.976462</td>\n      <td>25.813559</td>\n      <td>0.844913</td>\n      <td>3.351219</td>\n      <td>0.809092</td>\n      <td>7.166374e+06</td>\n      <td>...</td>\n      <td>0.0</td>\n      <td>0.0</td>\n      <td>0.0</td>\n      <td>0.0</td>\n      <td>0.0</td>\n      <td>0.0</td>\n      <td>0.0</td>\n      <td>0.0</td>\n      <td>0.467441</td>\n      <td>0.453530</td>\n    </tr>\n    <tr>\n      <th>min</th>\n      <td>0.500000</td>\n      <td>0.000000</td>\n      <td>0.000000</td>\n      <td>0.000000</td>\n      <td>1.000000</td>\n      <td>1910.000000</td>\n      <td>0.000000</td>\n      <td>0.000000</td>\n      <td>1.000000</td>\n      <td>2.081628e+06</td>\n      <td>...</td>\n      <td>0.0</td>\n      <td>0.0</td>\n      <td>0.0</td>\n      <td>0.0</td>\n      <td>0.0</td>\n      <td>0.0</td>\n      <td>0.0</td>\n      <td>0.0</td>\n      <td>0.000000</td>\n      <td>0.000000</td>\n    </tr>\n    <tr>\n      <th>25%</th>\n      <td>38.000000</td>\n      <td>20.000000</td>\n      <td>3.000000</td>\n      <td>9.000000</td>\n      <td>1.000000</td>\n      <td>1967.000000</td>\n      <td>1.000000</td>\n      <td>5.000000</td>\n      <td>2.000000</td>\n      <td>6.377883e+06</td>\n      <td>...</td>\n      <td>0.0</td>\n      <td>0.0</td>\n      <td>0.0</td>\n      <td>0.0</td>\n      <td>0.0</td>\n      <td>0.0</td>\n      <td>0.0</td>\n      <td>0.0</td>\n      <td>0.000000</td>\n      <td>0.000000</td>\n    </tr>\n    <tr>\n      <th>50%</th>\n      <td>48.000000</td>\n      <td>30.000000</td>\n      <td>6.000000</td>\n      <td>12.000000</td>\n      <td>1.000000</td>\n      <td>1979.000000</td>\n      <td>2.000000</td>\n      <td>7.000000</td>\n      <td>2.000000</td>\n      <td>9.282439e+06</td>\n      <td>...</td>\n      <td>0.0</td>\n      <td>0.0</td>\n      <td>0.0</td>\n      <td>0.0</td>\n      <td>0.0</td>\n      <td>0.0</td>\n      <td>0.0</td>\n      <td>0.0</td>\n      <td>0.000000</td>\n      <td>0.000000</td>\n    </tr>\n    <tr>\n      <th>75%</th>\n      <td>63.000000</td>\n      <td>43.000000</td>\n      <td>10.000000</td>\n      <td>17.000000</td>\n      <td>2.000000</td>\n      <td>2005.000000</td>\n      <td>3.000000</td>\n      <td>9.000000</td>\n      <td>3.000000</td>\n      <td>1.488362e+07</td>\n      <td>...</td>\n      <td>0.0</td>\n      <td>0.0</td>\n      <td>0.0</td>\n      <td>0.0</td>\n      <td>0.0</td>\n      <td>0.0</td>\n      <td>0.0</td>\n      <td>0.0</td>\n      <td>1.000000</td>\n      <td>1.000000</td>\n    </tr>\n    <tr>\n      <th>max</th>\n      <td>100.500000</td>\n      <td>77.500000</td>\n      <td>20.500000</td>\n      <td>29.000000</td>\n      <td>3.500000</td>\n      <td>2062.000000</td>\n      <td>6.000000</td>\n      <td>15.000000</td>\n      <td>4.500000</td>\n      <td>2.764223e+07</td>\n      <td>...</td>\n      <td>0.0</td>\n      <td>0.0</td>\n      <td>0.0</td>\n      <td>0.0</td>\n      <td>0.0</td>\n      <td>0.0</td>\n      <td>0.0</td>\n      <td>0.0</td>\n      <td>1.000000</td>\n      <td>1.000000</td>\n    </tr>\n  </tbody>\n</table>\n<p>8 rows × 192 columns</p>\n</div>"
     },
     "execution_count": 86,
     "metadata": {},
     "output_type": "execute_result"
    }
   ]
  },
  {
   "cell_type": "markdown",
   "source": [
    "# **Линейная регрессия**"
   ],
   "metadata": {
    "id": "qcpdTgKrM8Bk"
   }
  },
  {
   "cell_type": "code",
   "source": [
    "from sklearn.model_selection import train_test_split\n",
    "\n",
    "X = df_train_replace.drop(['price_doc'], axis=1)\n",
    "y = df_train_replace['price_doc']\n",
    "\n",
    "X_train, X_test, y_train, y_test = train_test_split(X, y, train_size=0.8, random_state=42)"
   ],
   "metadata": {
    "id": "La8lc5RINcQ7",
    "ExecuteTime": {
     "end_time": "2024-03-30T14:10:00.475469Z",
     "start_time": "2024-03-30T14:10:00.430910Z"
    }
   },
   "execution_count": 87,
   "outputs": []
  },
  {
   "cell_type": "code",
   "source": [
    "from sklearn import linear_model\n",
    "from sklearn.metrics import r2_score, mean_squared_error, root_mean_squared_error\n",
    "\n",
    "model = linear_model.LinearRegression()\n",
    "model.fit(X_train, y_train)\n",
    "\n",
    "train_pred = model.predict(X_train)\n",
    "print(\"Для обучающей выборки:\")\n",
    "print(f'R2 Score: {r2_score(y_train, train_pred)}')\n",
    "print(f'MSE: {mean_squared_error(y_train, train_pred)}')\n",
    "print(f'RMSE: {root_mean_squared_error(y_train, train_pred)}')\n",
    "\n",
    "test_pred = model.predict(X_test)\n",
    "print(\"\\nДля тестовой выборки:\")\n",
    "print(f'R2 Score: {r2_score(y_test, test_pred)}')\n",
    "print(f'MSE: {mean_squared_error(y_test, test_pred)}')\n",
    "print(f'RMSE: {root_mean_squared_error(y_test, test_pred)}')"
   ],
   "metadata": {
    "id": "lSBWRl9BOHz3",
    "ExecuteTime": {
     "end_time": "2024-03-30T14:12:37.517104Z",
     "start_time": "2024-03-30T14:12:37.408966Z"
    }
   },
   "execution_count": 92,
   "outputs": [
    {
     "name": "stdout",
     "output_type": "stream",
     "text": [
      "Для обучающей выборки:\n",
      "R2 Score: 0.5547293472838719\n",
      "MSE: 5381113155831.56\n",
      "RMSE: 2319722.6463160547\n",
      "\n",
      "Для тестовой выборки:\n",
      "R2 Score: 0.5223784692247306\n",
      "MSE: 5994741481891.282\n",
      "RMSE: 2448416.1169807883\n"
     ]
    }
   ]
  },
  {
   "cell_type": "markdown",
   "source": [
    "# **Метод случайного леса**"
   ],
   "metadata": {
    "id": "6uak64Q_Qo4_"
   }
  },
  {
   "cell_type": "code",
   "source": [
    "from sklearn.ensemble import RandomForestRegressor\n",
    "from sklearn.model_selection import GridSearchCV\n",
    "\n",
    "parametrs = {\n",
    "    'max_depth': [10],\n",
    "    'min_samples_leaf': [1],\n",
    "    'min_samples_split': [2],\n",
    "    'n_estimators': [100]\n",
    "}\n",
    "\n",
    "clf = RandomForestRegressor()\n",
    "\n",
    "grid = GridSearchCV(clf, parametrs, cv=5)\n",
    "grid.fit(X_train, y_train)\n",
    "\n",
    "train_pred = grid.predict(X_train)\n",
    "print(\"Для обучающей выборки:\")\n",
    "print(f'R2 Score: {r2_score(y_train, train_pred)}')\n",
    "print(f'MSE: {mean_squared_error(y_train, train_pred)}')\n",
    "print(f'RMSE: {root_mean_squared_error(y_train, train_pred)}')\n",
    "\n",
    "test_pred = grid.predict(X_test)\n",
    "print(\"\\nДля тестовой выборки:\")\n",
    "print(f'R2 Score: {r2_score(y_test, test_pred)}')\n",
    "print(f'MSE: {mean_squared_error(y_test, test_pred)}')\n",
    "print(f'RMSE: {root_mean_squared_error(y_test, test_pred)}')"
   ],
   "metadata": {
    "id": "rMMXtBAfQsg9",
    "ExecuteTime": {
     "end_time": "2024-03-30T14:16:39.664367Z",
     "start_time": "2024-03-30T14:12:40.054458Z"
    }
   },
   "execution_count": 93,
   "outputs": [
    {
     "name": "stdout",
     "output_type": "stream",
     "text": [
      "Для обучающей выборки:\n",
      "R2 Score: 0.7615147408992546\n",
      "MSE: 2882103631557.0234\n",
      "RMSE: 1697675.950102676\n",
      "Для тестовой выборки:\n",
      "R2 Score: 0.5509055040108619\n",
      "MSE: 5636691880337.115\n",
      "RMSE: 2374171.830415211\n"
     ]
    }
   ]
  },
  {
   "cell_type": "markdown",
   "source": [
    "# **Метод случайного леса**"
   ],
   "metadata": {
    "id": "hl_4d6zgdg0M"
   }
  },
  {
   "cell_type": "code",
   "source": [
    "from sklearn import linear_model\n",
    "\n",
    "model_Lasso = linear_model.Lasso(alpha=0.1)\n",
    "model_Lasso.fit(X_train, y_train)\n",
    "\n",
    "train_pred = model_Lasso.predict(X_train)\n",
    "print(\"Для обучающей выборки:\")\n",
    "print(f'R2 Score: {r2_score(y_train, train_pred)}')\n",
    "print(f'MSE: {mean_squared_error(y_train, train_pred)}')\n",
    "print(f'RMSE: {root_mean_squared_error(y_train, train_pred)}')\n",
    "\n",
    "test_pred = model_Lasso.predict(X_test)\n",
    "print(\"Для тестовой выборки:\")\n",
    "print(f'R2 Score: {r2_score(y_test, test_pred)}')\n",
    "print(f'MSE: {mean_squared_error(y_test, test_pred)}')\n",
    "print(f'RMSE: {root_mean_squared_error(y_test, test_pred)}')"
   ],
   "metadata": {
    "id": "3E8EJ02rduDz",
    "ExecuteTime": {
     "end_time": "2024-03-30T14:17:10.286509Z",
     "start_time": "2024-03-30T14:16:39.665378Z"
    }
   },
   "execution_count": 94,
   "outputs": [
    {
     "name": "stdout",
     "output_type": "stream",
     "text": [
      "Для обучающей выборки:\n",
      "R2 Score: 0.5547293464119055\n",
      "MSE: 5381113166369.307\n",
      "RMSE: 2319722.648587392\n",
      "Для тестовой выборки:\n",
      "R2 Score: 0.5223787097855723\n",
      "MSE: 5994738462554.917\n",
      "RMSE: 2448415.5003910013\n"
     ]
    },
    {
     "name": "stderr",
     "output_type": "stream",
     "text": [
      "C:\\Projects\\Python\\SiriusAI\\venv\\Lib\\site-packages\\sklearn\\linear_model\\_coordinate_descent.py:678: ConvergenceWarning: Objective did not converge. You might want to increase the number of iterations, check the scale of the features or consider increasing regularisation. Duality gap: 3.286e+16, tolerance: 1.476e+13\n",
      "  model = cd_fast.enet_coordinate_descent(\n"
     ]
    }
   ]
  }
 ]
}
